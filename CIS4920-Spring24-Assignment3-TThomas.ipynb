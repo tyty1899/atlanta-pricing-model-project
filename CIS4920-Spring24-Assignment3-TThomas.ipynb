{
  "nbformat": 4,
  "nbformat_minor": 0,
  "metadata": {
    "kernelspec": {
      "display_name": "Python 3",
      "language": "python",
      "name": "python3"
    },
    "language_info": {
      "codemirror_mode": {
        "name": "ipython",
        "version": 3
      },
      "file_extension": ".py",
      "mimetype": "text/x-python",
      "name": "python",
      "nbconvert_exporter": "python",
      "pygments_lexer": "ipython3",
      "version": "3.7.3"
    },
    "colab": {
      "provenance": []
    }
  },
  "cells": [
    {
      "cell_type": "markdown",
      "metadata": {
        "id": "LzoMZK15oxMg"
      },
      "source": [
        "# Assignment 3: Stock price prediction using sklearn on structured data"
      ]
    },
    {
      "cell_type": "markdown",
      "metadata": {
        "id": "ah1KK_d6oxMi"
      },
      "source": [
        "\n",
        "You can edit this notebook to finish the assigned tasks and answer the questions."
      ]
    },
    {
      "cell_type": "markdown",
      "metadata": {
        "id": "oJXaFm-VoxM9"
      },
      "source": [
        "You will need to work with files in this assignment. \"%pwd\" commands tell you the full path name of working directory and \"%ls\" list the files in it."
      ]
    },
    {
      "cell_type": "code",
      "metadata": {
        "scrolled": true,
        "id": "nWl0aMFqoxM9",
        "colab": {
          "base_uri": "https://localhost:8080/",
          "height": 35
        },
        "outputId": "64c77af4-9219-414d-af14-c48f05af7d88"
      },
      "source": [
        "%pwd"
      ],
      "execution_count": null,
      "outputs": [
        {
          "output_type": "execute_result",
          "data": {
            "text/plain": [
              "'/content'"
            ],
            "application/vnd.google.colaboratory.intrinsic+json": {
              "type": "string"
            }
          },
          "metadata": {},
          "execution_count": 2
        }
      ]
    },
    {
      "cell_type": "code",
      "metadata": {
        "id": "sXv6NDK8oxM_",
        "colab": {
          "base_uri": "https://localhost:8080/"
        },
        "outputId": "2fcbfc5e-98ed-441f-a23a-0f858137fb7c"
      },
      "source": [
        "%ls"
      ],
      "execution_count": null,
      "outputs": [
        {
          "output_type": "stream",
          "name": "stdout",
          "text": [
            "\u001b[0m\u001b[01;34msample_data\u001b[0m/  stocktrainingdata.csv\n"
          ]
        }
      ]
    },
    {
      "cell_type": "markdown",
      "metadata": {
        "id": "AegpUpFEoxNA"
      },
      "source": [
        "The \"%ls\" command should show you at least the two .csv data files, the .txt variable explanations files, and this jupyter notebook. If it doesn't, you may need to move those files to the working directory manually or change the working directory.\n",
        "\n",
        "Next we can import the training data. We'll do this using pandas and numpy."
      ]
    },
    {
      "cell_type": "code",
      "metadata": {
        "id": "W9ObNzEroxNB"
      },
      "source": [
        "import pandas as pd\n",
        "import numpy as np"
      ],
      "execution_count": null,
      "outputs": []
    },
    {
      "cell_type": "markdown",
      "source": [
        "## 1 Data loading"
      ],
      "metadata": {
        "id": "fPalqW7uJDTe"
      }
    },
    {
      "cell_type": "markdown",
      "metadata": {
        "id": "N076s5YJoxNC"
      },
      "source": [
        "The code below will import the .csv as a dataframe type object."
      ]
    },
    {
      "cell_type": "code",
      "metadata": {
        "id": "G6DxehvCoxND"
      },
      "source": [
        "trainingdata = pd.read_csv(\"stocktrainingdata.csv\", header = 0)"
      ],
      "execution_count": null,
      "outputs": []
    },
    {
      "cell_type": "code",
      "metadata": {
        "scrolled": true,
        "id": "_E-U7RN0oxNE",
        "colab": {
          "base_uri": "https://localhost:8080/",
          "height": 419
        },
        "outputId": "15fb812b-b030-4c77-9ef8-5991d39f992f"
      },
      "source": [
        "#If you want to see your data\n",
        "trainingdata"
      ],
      "execution_count": null,
      "outputs": [
        {
          "output_type": "execute_result",
          "data": {
            "text/plain": [
              "    Firm ID number Stock price  Permanent Earnings per share  \\\n",
              "0                1     $32.04                       3.196532   \n",
              "1                2     $19.99                       1.858204   \n",
              "2                3     $18.93                       1.479520   \n",
              "3                4     $16.99                       1.401072   \n",
              "4                5     $23.30                       2.058146   \n",
              "..             ...         ...                           ...   \n",
              "75              76     $33.76                       3.149658   \n",
              "76              77     $19.76                       1.796936   \n",
              "77              78     $33.27                       3.083121   \n",
              "78              79     $18.07                       1.695720   \n",
              "79              80     $24.67                       2.516423   \n",
              "\n",
              "    Transitory Earnings per share  Earnings per share  \n",
              "0                        0.901537            4.098069  \n",
              "1                        0.461790            2.319993  \n",
              "2                        0.324834            1.804355  \n",
              "3                        0.363023            1.764096  \n",
              "4                        0.607008            2.665154  \n",
              "..                            ...                 ...  \n",
              "75                       0.446015            3.595673  \n",
              "76                       0.382118            2.179054  \n",
              "77                       0.239894            3.323015  \n",
              "78                       0.546037            2.241758  \n",
              "79                       1.141087            3.657509  \n",
              "\n",
              "[80 rows x 5 columns]"
            ],
            "text/html": [
              "\n",
              "  <div id=\"df-8697c3fb-1fc2-4278-8a71-7579469f5827\" class=\"colab-df-container\">\n",
              "    <div>\n",
              "<style scoped>\n",
              "    .dataframe tbody tr th:only-of-type {\n",
              "        vertical-align: middle;\n",
              "    }\n",
              "\n",
              "    .dataframe tbody tr th {\n",
              "        vertical-align: top;\n",
              "    }\n",
              "\n",
              "    .dataframe thead th {\n",
              "        text-align: right;\n",
              "    }\n",
              "</style>\n",
              "<table border=\"1\" class=\"dataframe\">\n",
              "  <thead>\n",
              "    <tr style=\"text-align: right;\">\n",
              "      <th></th>\n",
              "      <th>Firm ID number</th>\n",
              "      <th>Stock price</th>\n",
              "      <th>Permanent Earnings per share</th>\n",
              "      <th>Transitory Earnings per share</th>\n",
              "      <th>Earnings per share</th>\n",
              "    </tr>\n",
              "  </thead>\n",
              "  <tbody>\n",
              "    <tr>\n",
              "      <th>0</th>\n",
              "      <td>1</td>\n",
              "      <td>$32.04</td>\n",
              "      <td>3.196532</td>\n",
              "      <td>0.901537</td>\n",
              "      <td>4.098069</td>\n",
              "    </tr>\n",
              "    <tr>\n",
              "      <th>1</th>\n",
              "      <td>2</td>\n",
              "      <td>$19.99</td>\n",
              "      <td>1.858204</td>\n",
              "      <td>0.461790</td>\n",
              "      <td>2.319993</td>\n",
              "    </tr>\n",
              "    <tr>\n",
              "      <th>2</th>\n",
              "      <td>3</td>\n",
              "      <td>$18.93</td>\n",
              "      <td>1.479520</td>\n",
              "      <td>0.324834</td>\n",
              "      <td>1.804355</td>\n",
              "    </tr>\n",
              "    <tr>\n",
              "      <th>3</th>\n",
              "      <td>4</td>\n",
              "      <td>$16.99</td>\n",
              "      <td>1.401072</td>\n",
              "      <td>0.363023</td>\n",
              "      <td>1.764096</td>\n",
              "    </tr>\n",
              "    <tr>\n",
              "      <th>4</th>\n",
              "      <td>5</td>\n",
              "      <td>$23.30</td>\n",
              "      <td>2.058146</td>\n",
              "      <td>0.607008</td>\n",
              "      <td>2.665154</td>\n",
              "    </tr>\n",
              "    <tr>\n",
              "      <th>...</th>\n",
              "      <td>...</td>\n",
              "      <td>...</td>\n",
              "      <td>...</td>\n",
              "      <td>...</td>\n",
              "      <td>...</td>\n",
              "    </tr>\n",
              "    <tr>\n",
              "      <th>75</th>\n",
              "      <td>76</td>\n",
              "      <td>$33.76</td>\n",
              "      <td>3.149658</td>\n",
              "      <td>0.446015</td>\n",
              "      <td>3.595673</td>\n",
              "    </tr>\n",
              "    <tr>\n",
              "      <th>76</th>\n",
              "      <td>77</td>\n",
              "      <td>$19.76</td>\n",
              "      <td>1.796936</td>\n",
              "      <td>0.382118</td>\n",
              "      <td>2.179054</td>\n",
              "    </tr>\n",
              "    <tr>\n",
              "      <th>77</th>\n",
              "      <td>78</td>\n",
              "      <td>$33.27</td>\n",
              "      <td>3.083121</td>\n",
              "      <td>0.239894</td>\n",
              "      <td>3.323015</td>\n",
              "    </tr>\n",
              "    <tr>\n",
              "      <th>78</th>\n",
              "      <td>79</td>\n",
              "      <td>$18.07</td>\n",
              "      <td>1.695720</td>\n",
              "      <td>0.546037</td>\n",
              "      <td>2.241758</td>\n",
              "    </tr>\n",
              "    <tr>\n",
              "      <th>79</th>\n",
              "      <td>80</td>\n",
              "      <td>$24.67</td>\n",
              "      <td>2.516423</td>\n",
              "      <td>1.141087</td>\n",
              "      <td>3.657509</td>\n",
              "    </tr>\n",
              "  </tbody>\n",
              "</table>\n",
              "<p>80 rows × 5 columns</p>\n",
              "</div>\n",
              "    <div class=\"colab-df-buttons\">\n",
              "\n",
              "  <div class=\"colab-df-container\">\n",
              "    <button class=\"colab-df-convert\" onclick=\"convertToInteractive('df-8697c3fb-1fc2-4278-8a71-7579469f5827')\"\n",
              "            title=\"Convert this dataframe to an interactive table.\"\n",
              "            style=\"display:none;\">\n",
              "\n",
              "  <svg xmlns=\"http://www.w3.org/2000/svg\" height=\"24px\" viewBox=\"0 -960 960 960\">\n",
              "    <path d=\"M120-120v-720h720v720H120Zm60-500h600v-160H180v160Zm220 220h160v-160H400v160Zm0 220h160v-160H400v160ZM180-400h160v-160H180v160Zm440 0h160v-160H620v160ZM180-180h160v-160H180v160Zm440 0h160v-160H620v160Z\"/>\n",
              "  </svg>\n",
              "    </button>\n",
              "\n",
              "  <style>\n",
              "    .colab-df-container {\n",
              "      display:flex;\n",
              "      gap: 12px;\n",
              "    }\n",
              "\n",
              "    .colab-df-convert {\n",
              "      background-color: #E8F0FE;\n",
              "      border: none;\n",
              "      border-radius: 50%;\n",
              "      cursor: pointer;\n",
              "      display: none;\n",
              "      fill: #1967D2;\n",
              "      height: 32px;\n",
              "      padding: 0 0 0 0;\n",
              "      width: 32px;\n",
              "    }\n",
              "\n",
              "    .colab-df-convert:hover {\n",
              "      background-color: #E2EBFA;\n",
              "      box-shadow: 0px 1px 2px rgba(60, 64, 67, 0.3), 0px 1px 3px 1px rgba(60, 64, 67, 0.15);\n",
              "      fill: #174EA6;\n",
              "    }\n",
              "\n",
              "    .colab-df-buttons div {\n",
              "      margin-bottom: 4px;\n",
              "    }\n",
              "\n",
              "    [theme=dark] .colab-df-convert {\n",
              "      background-color: #3B4455;\n",
              "      fill: #D2E3FC;\n",
              "    }\n",
              "\n",
              "    [theme=dark] .colab-df-convert:hover {\n",
              "      background-color: #434B5C;\n",
              "      box-shadow: 0px 1px 3px 1px rgba(0, 0, 0, 0.15);\n",
              "      filter: drop-shadow(0px 1px 2px rgba(0, 0, 0, 0.3));\n",
              "      fill: #FFFFFF;\n",
              "    }\n",
              "  </style>\n",
              "\n",
              "    <script>\n",
              "      const buttonEl =\n",
              "        document.querySelector('#df-8697c3fb-1fc2-4278-8a71-7579469f5827 button.colab-df-convert');\n",
              "      buttonEl.style.display =\n",
              "        google.colab.kernel.accessAllowed ? 'block' : 'none';\n",
              "\n",
              "      async function convertToInteractive(key) {\n",
              "        const element = document.querySelector('#df-8697c3fb-1fc2-4278-8a71-7579469f5827');\n",
              "        const dataTable =\n",
              "          await google.colab.kernel.invokeFunction('convertToInteractive',\n",
              "                                                    [key], {});\n",
              "        if (!dataTable) return;\n",
              "\n",
              "        const docLinkHtml = 'Like what you see? Visit the ' +\n",
              "          '<a target=\"_blank\" href=https://colab.research.google.com/notebooks/data_table.ipynb>data table notebook</a>'\n",
              "          + ' to learn more about interactive tables.';\n",
              "        element.innerHTML = '';\n",
              "        dataTable['output_type'] = 'display_data';\n",
              "        await google.colab.output.renderOutput(dataTable, element);\n",
              "        const docLink = document.createElement('div');\n",
              "        docLink.innerHTML = docLinkHtml;\n",
              "        element.appendChild(docLink);\n",
              "      }\n",
              "    </script>\n",
              "  </div>\n",
              "\n",
              "\n",
              "<div id=\"df-e792de73-2e09-4824-b06a-f09d3953c06b\">\n",
              "  <button class=\"colab-df-quickchart\" onclick=\"quickchart('df-e792de73-2e09-4824-b06a-f09d3953c06b')\"\n",
              "            title=\"Suggest charts\"\n",
              "            style=\"display:none;\">\n",
              "\n",
              "<svg xmlns=\"http://www.w3.org/2000/svg\" height=\"24px\"viewBox=\"0 0 24 24\"\n",
              "     width=\"24px\">\n",
              "    <g>\n",
              "        <path d=\"M19 3H5c-1.1 0-2 .9-2 2v14c0 1.1.9 2 2 2h14c1.1 0 2-.9 2-2V5c0-1.1-.9-2-2-2zM9 17H7v-7h2v7zm4 0h-2V7h2v10zm4 0h-2v-4h2v4z\"/>\n",
              "    </g>\n",
              "</svg>\n",
              "  </button>\n",
              "\n",
              "<style>\n",
              "  .colab-df-quickchart {\n",
              "      --bg-color: #E8F0FE;\n",
              "      --fill-color: #1967D2;\n",
              "      --hover-bg-color: #E2EBFA;\n",
              "      --hover-fill-color: #174EA6;\n",
              "      --disabled-fill-color: #AAA;\n",
              "      --disabled-bg-color: #DDD;\n",
              "  }\n",
              "\n",
              "  [theme=dark] .colab-df-quickchart {\n",
              "      --bg-color: #3B4455;\n",
              "      --fill-color: #D2E3FC;\n",
              "      --hover-bg-color: #434B5C;\n",
              "      --hover-fill-color: #FFFFFF;\n",
              "      --disabled-bg-color: #3B4455;\n",
              "      --disabled-fill-color: #666;\n",
              "  }\n",
              "\n",
              "  .colab-df-quickchart {\n",
              "    background-color: var(--bg-color);\n",
              "    border: none;\n",
              "    border-radius: 50%;\n",
              "    cursor: pointer;\n",
              "    display: none;\n",
              "    fill: var(--fill-color);\n",
              "    height: 32px;\n",
              "    padding: 0;\n",
              "    width: 32px;\n",
              "  }\n",
              "\n",
              "  .colab-df-quickchart:hover {\n",
              "    background-color: var(--hover-bg-color);\n",
              "    box-shadow: 0 1px 2px rgba(60, 64, 67, 0.3), 0 1px 3px 1px rgba(60, 64, 67, 0.15);\n",
              "    fill: var(--button-hover-fill-color);\n",
              "  }\n",
              "\n",
              "  .colab-df-quickchart-complete:disabled,\n",
              "  .colab-df-quickchart-complete:disabled:hover {\n",
              "    background-color: var(--disabled-bg-color);\n",
              "    fill: var(--disabled-fill-color);\n",
              "    box-shadow: none;\n",
              "  }\n",
              "\n",
              "  .colab-df-spinner {\n",
              "    border: 2px solid var(--fill-color);\n",
              "    border-color: transparent;\n",
              "    border-bottom-color: var(--fill-color);\n",
              "    animation:\n",
              "      spin 1s steps(1) infinite;\n",
              "  }\n",
              "\n",
              "  @keyframes spin {\n",
              "    0% {\n",
              "      border-color: transparent;\n",
              "      border-bottom-color: var(--fill-color);\n",
              "      border-left-color: var(--fill-color);\n",
              "    }\n",
              "    20% {\n",
              "      border-color: transparent;\n",
              "      border-left-color: var(--fill-color);\n",
              "      border-top-color: var(--fill-color);\n",
              "    }\n",
              "    30% {\n",
              "      border-color: transparent;\n",
              "      border-left-color: var(--fill-color);\n",
              "      border-top-color: var(--fill-color);\n",
              "      border-right-color: var(--fill-color);\n",
              "    }\n",
              "    40% {\n",
              "      border-color: transparent;\n",
              "      border-right-color: var(--fill-color);\n",
              "      border-top-color: var(--fill-color);\n",
              "    }\n",
              "    60% {\n",
              "      border-color: transparent;\n",
              "      border-right-color: var(--fill-color);\n",
              "    }\n",
              "    80% {\n",
              "      border-color: transparent;\n",
              "      border-right-color: var(--fill-color);\n",
              "      border-bottom-color: var(--fill-color);\n",
              "    }\n",
              "    90% {\n",
              "      border-color: transparent;\n",
              "      border-bottom-color: var(--fill-color);\n",
              "    }\n",
              "  }\n",
              "</style>\n",
              "\n",
              "  <script>\n",
              "    async function quickchart(key) {\n",
              "      const quickchartButtonEl =\n",
              "        document.querySelector('#' + key + ' button');\n",
              "      quickchartButtonEl.disabled = true;  // To prevent multiple clicks.\n",
              "      quickchartButtonEl.classList.add('colab-df-spinner');\n",
              "      try {\n",
              "        const charts = await google.colab.kernel.invokeFunction(\n",
              "            'suggestCharts', [key], {});\n",
              "      } catch (error) {\n",
              "        console.error('Error during call to suggestCharts:', error);\n",
              "      }\n",
              "      quickchartButtonEl.classList.remove('colab-df-spinner');\n",
              "      quickchartButtonEl.classList.add('colab-df-quickchart-complete');\n",
              "    }\n",
              "    (() => {\n",
              "      let quickchartButtonEl =\n",
              "        document.querySelector('#df-e792de73-2e09-4824-b06a-f09d3953c06b button');\n",
              "      quickchartButtonEl.style.display =\n",
              "        google.colab.kernel.accessAllowed ? 'block' : 'none';\n",
              "    })();\n",
              "  </script>\n",
              "</div>\n",
              "\n",
              "  <div id=\"id_cd03f824-7db2-4155-ad8e-c80c1b27b78a\">\n",
              "    <style>\n",
              "      .colab-df-generate {\n",
              "        background-color: #E8F0FE;\n",
              "        border: none;\n",
              "        border-radius: 50%;\n",
              "        cursor: pointer;\n",
              "        display: none;\n",
              "        fill: #1967D2;\n",
              "        height: 32px;\n",
              "        padding: 0 0 0 0;\n",
              "        width: 32px;\n",
              "      }\n",
              "\n",
              "      .colab-df-generate:hover {\n",
              "        background-color: #E2EBFA;\n",
              "        box-shadow: 0px 1px 2px rgba(60, 64, 67, 0.3), 0px 1px 3px 1px rgba(60, 64, 67, 0.15);\n",
              "        fill: #174EA6;\n",
              "      }\n",
              "\n",
              "      [theme=dark] .colab-df-generate {\n",
              "        background-color: #3B4455;\n",
              "        fill: #D2E3FC;\n",
              "      }\n",
              "\n",
              "      [theme=dark] .colab-df-generate:hover {\n",
              "        background-color: #434B5C;\n",
              "        box-shadow: 0px 1px 3px 1px rgba(0, 0, 0, 0.15);\n",
              "        filter: drop-shadow(0px 1px 2px rgba(0, 0, 0, 0.3));\n",
              "        fill: #FFFFFF;\n",
              "      }\n",
              "    </style>\n",
              "    <button class=\"colab-df-generate\" onclick=\"generateWithVariable('trainingdata')\"\n",
              "            title=\"Generate code using this dataframe.\"\n",
              "            style=\"display:none;\">\n",
              "\n",
              "  <svg xmlns=\"http://www.w3.org/2000/svg\" height=\"24px\"viewBox=\"0 0 24 24\"\n",
              "       width=\"24px\">\n",
              "    <path d=\"M7,19H8.4L18.45,9,17,7.55,7,17.6ZM5,21V16.75L18.45,3.32a2,2,0,0,1,2.83,0l1.4,1.43a1.91,1.91,0,0,1,.58,1.4,1.91,1.91,0,0,1-.58,1.4L9.25,21ZM18.45,9,17,7.55Zm-12,3A5.31,5.31,0,0,0,4.9,8.1,5.31,5.31,0,0,0,1,6.5,5.31,5.31,0,0,0,4.9,4.9,5.31,5.31,0,0,0,6.5,1,5.31,5.31,0,0,0,8.1,4.9,5.31,5.31,0,0,0,12,6.5,5.46,5.46,0,0,0,6.5,12Z\"/>\n",
              "  </svg>\n",
              "    </button>\n",
              "    <script>\n",
              "      (() => {\n",
              "      const buttonEl =\n",
              "        document.querySelector('#id_cd03f824-7db2-4155-ad8e-c80c1b27b78a button.colab-df-generate');\n",
              "      buttonEl.style.display =\n",
              "        google.colab.kernel.accessAllowed ? 'block' : 'none';\n",
              "\n",
              "      buttonEl.onclick = () => {\n",
              "        google.colab.notebook.generateWithVariable('trainingdata');\n",
              "      }\n",
              "      })();\n",
              "    </script>\n",
              "  </div>\n",
              "\n",
              "    </div>\n",
              "  </div>\n"
            ],
            "application/vnd.google.colaboratory.intrinsic+json": {
              "type": "dataframe",
              "variable_name": "trainingdata",
              "summary": "{\n  \"name\": \"trainingdata\",\n  \"rows\": 80,\n  \"fields\": [\n    {\n      \"column\": \"Firm ID number\",\n      \"properties\": {\n        \"dtype\": \"number\",\n        \"std\": 23,\n        \"min\": 1,\n        \"max\": 80,\n        \"num_unique_values\": 80,\n        \"samples\": [\n          31,\n          1,\n          23\n        ],\n        \"semantic_type\": \"\",\n        \"description\": \"\"\n      }\n    },\n    {\n      \"column\": \"Stock price\",\n      \"properties\": {\n        \"dtype\": \"string\",\n        \"num_unique_values\": 79,\n        \"samples\": [\n          \"$24.35 \",\n          \"$32.04 \",\n          \"$26.48 \"\n        ],\n        \"semantic_type\": \"\",\n        \"description\": \"\"\n      }\n    },\n    {\n      \"column\": \"Permanent Earnings per share\",\n      \"properties\": {\n        \"dtype\": \"number\",\n        \"std\": 0.9091247203542294,\n        \"min\": 0.863885455,\n        \"max\": 4.648668685,\n        \"num_unique_values\": 79,\n        \"samples\": [\n          2.315073154,\n          3.196531792,\n          2.591121286\n        ],\n        \"semantic_type\": \"\",\n        \"description\": \"\"\n      }\n    },\n    {\n      \"column\": \"Transitory Earnings per share\",\n      \"properties\": {\n        \"dtype\": \"number\",\n        \"std\": 0.2688631582657003,\n        \"min\": 0.124404217,\n        \"max\": 1.284082296,\n        \"num_unique_values\": 79,\n        \"samples\": [\n          0.483800234,\n          0.901537047,\n          0.837328306\n        ],\n        \"semantic_type\": \"\",\n        \"description\": \"\"\n      }\n    },\n    {\n      \"column\": \"Earnings per share\",\n      \"properties\": {\n        \"dtype\": \"number\",\n        \"std\": 1.0872458205132096,\n        \"min\": 1.087124021,\n        \"max\": 5.914993513,\n        \"num_unique_values\": 79,\n        \"samples\": [\n          2.798873389,\n          4.098068839,\n          1.247743186\n        ],\n        \"semantic_type\": \"\",\n        \"description\": \"\"\n      }\n    }\n  ]\n}"
            }
          },
          "metadata": {},
          "execution_count": 6
        }
      ]
    },
    {
      "cell_type": "code",
      "metadata": {
        "id": "pi1AymVaCKR9",
        "colab": {
          "base_uri": "https://localhost:8080/"
        },
        "outputId": "d19a0ad6-03b0-42e3-f378-01c38bc08498"
      },
      "source": [
        "#If you want to see the data type of each column\n",
        "trainingdata.dtypes"
      ],
      "execution_count": null,
      "outputs": [
        {
          "output_type": "execute_result",
          "data": {
            "text/plain": [
              "Firm ID number                     int64\n",
              "Stock price                       object\n",
              "Permanent Earnings per share     float64\n",
              "Transitory Earnings per share    float64\n",
              "Earnings per share               float64\n",
              "dtype: object"
            ]
          },
          "metadata": {},
          "execution_count": 7
        }
      ]
    },
    {
      "cell_type": "markdown",
      "source": [
        "## 2 Data clean"
      ],
      "metadata": {
        "id": "F6MZ7dAvJJDT"
      }
    },
    {
      "cell_type": "markdown",
      "source": [
        "Then we need to clean the data a bit."
      ],
      "metadata": {
        "id": "mL1-x__wRIDM"
      }
    },
    {
      "cell_type": "markdown",
      "metadata": {
        "id": "okQiROm5oxNH"
      },
      "source": [
        "#### 2.1 **Question**: In some obervations, the variables are missing. Please drop these observations."
      ]
    },
    {
      "cell_type": "code",
      "metadata": {
        "id": "68iCN6hsoxNI",
        "colab": {
          "base_uri": "https://localhost:8080/",
          "height": 419
        },
        "outputId": "77d5ccea-faae-4614-b97d-43196e708c20"
      },
      "source": [
        "# Enter code here to drop the observations which has missing variables\n",
        "trainingdata = trainingdata.dropna()\n",
        "\n",
        "# If you want to see the data again\n",
        "trainingdata"
      ],
      "execution_count": null,
      "outputs": [
        {
          "output_type": "execute_result",
          "data": {
            "text/plain": [
              "    Firm ID number Stock price  Permanent Earnings per share  \\\n",
              "0                1     $32.04                       3.196532   \n",
              "1                2     $19.99                       1.858204   \n",
              "2                3     $18.93                       1.479520   \n",
              "3                4     $16.99                       1.401072   \n",
              "4                5     $23.30                       2.058146   \n",
              "..             ...         ...                           ...   \n",
              "75              76     $33.76                       3.149658   \n",
              "76              77     $19.76                       1.796936   \n",
              "77              78     $33.27                       3.083121   \n",
              "78              79     $18.07                       1.695720   \n",
              "79              80     $24.67                       2.516423   \n",
              "\n",
              "    Transitory Earnings per share  Earnings per share  \n",
              "0                        0.901537            4.098069  \n",
              "1                        0.461790            2.319993  \n",
              "2                        0.324834            1.804355  \n",
              "3                        0.363023            1.764096  \n",
              "4                        0.607008            2.665154  \n",
              "..                            ...                 ...  \n",
              "75                       0.446015            3.595673  \n",
              "76                       0.382118            2.179054  \n",
              "77                       0.239894            3.323015  \n",
              "78                       0.546037            2.241758  \n",
              "79                       1.141087            3.657509  \n",
              "\n",
              "[77 rows x 5 columns]"
            ],
            "text/html": [
              "\n",
              "  <div id=\"df-f5b86831-6f43-4d29-a4c1-ed88fda5a0b1\" class=\"colab-df-container\">\n",
              "    <div>\n",
              "<style scoped>\n",
              "    .dataframe tbody tr th:only-of-type {\n",
              "        vertical-align: middle;\n",
              "    }\n",
              "\n",
              "    .dataframe tbody tr th {\n",
              "        vertical-align: top;\n",
              "    }\n",
              "\n",
              "    .dataframe thead th {\n",
              "        text-align: right;\n",
              "    }\n",
              "</style>\n",
              "<table border=\"1\" class=\"dataframe\">\n",
              "  <thead>\n",
              "    <tr style=\"text-align: right;\">\n",
              "      <th></th>\n",
              "      <th>Firm ID number</th>\n",
              "      <th>Stock price</th>\n",
              "      <th>Permanent Earnings per share</th>\n",
              "      <th>Transitory Earnings per share</th>\n",
              "      <th>Earnings per share</th>\n",
              "    </tr>\n",
              "  </thead>\n",
              "  <tbody>\n",
              "    <tr>\n",
              "      <th>0</th>\n",
              "      <td>1</td>\n",
              "      <td>$32.04</td>\n",
              "      <td>3.196532</td>\n",
              "      <td>0.901537</td>\n",
              "      <td>4.098069</td>\n",
              "    </tr>\n",
              "    <tr>\n",
              "      <th>1</th>\n",
              "      <td>2</td>\n",
              "      <td>$19.99</td>\n",
              "      <td>1.858204</td>\n",
              "      <td>0.461790</td>\n",
              "      <td>2.319993</td>\n",
              "    </tr>\n",
              "    <tr>\n",
              "      <th>2</th>\n",
              "      <td>3</td>\n",
              "      <td>$18.93</td>\n",
              "      <td>1.479520</td>\n",
              "      <td>0.324834</td>\n",
              "      <td>1.804355</td>\n",
              "    </tr>\n",
              "    <tr>\n",
              "      <th>3</th>\n",
              "      <td>4</td>\n",
              "      <td>$16.99</td>\n",
              "      <td>1.401072</td>\n",
              "      <td>0.363023</td>\n",
              "      <td>1.764096</td>\n",
              "    </tr>\n",
              "    <tr>\n",
              "      <th>4</th>\n",
              "      <td>5</td>\n",
              "      <td>$23.30</td>\n",
              "      <td>2.058146</td>\n",
              "      <td>0.607008</td>\n",
              "      <td>2.665154</td>\n",
              "    </tr>\n",
              "    <tr>\n",
              "      <th>...</th>\n",
              "      <td>...</td>\n",
              "      <td>...</td>\n",
              "      <td>...</td>\n",
              "      <td>...</td>\n",
              "      <td>...</td>\n",
              "    </tr>\n",
              "    <tr>\n",
              "      <th>75</th>\n",
              "      <td>76</td>\n",
              "      <td>$33.76</td>\n",
              "      <td>3.149658</td>\n",
              "      <td>0.446015</td>\n",
              "      <td>3.595673</td>\n",
              "    </tr>\n",
              "    <tr>\n",
              "      <th>76</th>\n",
              "      <td>77</td>\n",
              "      <td>$19.76</td>\n",
              "      <td>1.796936</td>\n",
              "      <td>0.382118</td>\n",
              "      <td>2.179054</td>\n",
              "    </tr>\n",
              "    <tr>\n",
              "      <th>77</th>\n",
              "      <td>78</td>\n",
              "      <td>$33.27</td>\n",
              "      <td>3.083121</td>\n",
              "      <td>0.239894</td>\n",
              "      <td>3.323015</td>\n",
              "    </tr>\n",
              "    <tr>\n",
              "      <th>78</th>\n",
              "      <td>79</td>\n",
              "      <td>$18.07</td>\n",
              "      <td>1.695720</td>\n",
              "      <td>0.546037</td>\n",
              "      <td>2.241758</td>\n",
              "    </tr>\n",
              "    <tr>\n",
              "      <th>79</th>\n",
              "      <td>80</td>\n",
              "      <td>$24.67</td>\n",
              "      <td>2.516423</td>\n",
              "      <td>1.141087</td>\n",
              "      <td>3.657509</td>\n",
              "    </tr>\n",
              "  </tbody>\n",
              "</table>\n",
              "<p>77 rows × 5 columns</p>\n",
              "</div>\n",
              "    <div class=\"colab-df-buttons\">\n",
              "\n",
              "  <div class=\"colab-df-container\">\n",
              "    <button class=\"colab-df-convert\" onclick=\"convertToInteractive('df-f5b86831-6f43-4d29-a4c1-ed88fda5a0b1')\"\n",
              "            title=\"Convert this dataframe to an interactive table.\"\n",
              "            style=\"display:none;\">\n",
              "\n",
              "  <svg xmlns=\"http://www.w3.org/2000/svg\" height=\"24px\" viewBox=\"0 -960 960 960\">\n",
              "    <path d=\"M120-120v-720h720v720H120Zm60-500h600v-160H180v160Zm220 220h160v-160H400v160Zm0 220h160v-160H400v160ZM180-400h160v-160H180v160Zm440 0h160v-160H620v160ZM180-180h160v-160H180v160Zm440 0h160v-160H620v160Z\"/>\n",
              "  </svg>\n",
              "    </button>\n",
              "\n",
              "  <style>\n",
              "    .colab-df-container {\n",
              "      display:flex;\n",
              "      gap: 12px;\n",
              "    }\n",
              "\n",
              "    .colab-df-convert {\n",
              "      background-color: #E8F0FE;\n",
              "      border: none;\n",
              "      border-radius: 50%;\n",
              "      cursor: pointer;\n",
              "      display: none;\n",
              "      fill: #1967D2;\n",
              "      height: 32px;\n",
              "      padding: 0 0 0 0;\n",
              "      width: 32px;\n",
              "    }\n",
              "\n",
              "    .colab-df-convert:hover {\n",
              "      background-color: #E2EBFA;\n",
              "      box-shadow: 0px 1px 2px rgba(60, 64, 67, 0.3), 0px 1px 3px 1px rgba(60, 64, 67, 0.15);\n",
              "      fill: #174EA6;\n",
              "    }\n",
              "\n",
              "    .colab-df-buttons div {\n",
              "      margin-bottom: 4px;\n",
              "    }\n",
              "\n",
              "    [theme=dark] .colab-df-convert {\n",
              "      background-color: #3B4455;\n",
              "      fill: #D2E3FC;\n",
              "    }\n",
              "\n",
              "    [theme=dark] .colab-df-convert:hover {\n",
              "      background-color: #434B5C;\n",
              "      box-shadow: 0px 1px 3px 1px rgba(0, 0, 0, 0.15);\n",
              "      filter: drop-shadow(0px 1px 2px rgba(0, 0, 0, 0.3));\n",
              "      fill: #FFFFFF;\n",
              "    }\n",
              "  </style>\n",
              "\n",
              "    <script>\n",
              "      const buttonEl =\n",
              "        document.querySelector('#df-f5b86831-6f43-4d29-a4c1-ed88fda5a0b1 button.colab-df-convert');\n",
              "      buttonEl.style.display =\n",
              "        google.colab.kernel.accessAllowed ? 'block' : 'none';\n",
              "\n",
              "      async function convertToInteractive(key) {\n",
              "        const element = document.querySelector('#df-f5b86831-6f43-4d29-a4c1-ed88fda5a0b1');\n",
              "        const dataTable =\n",
              "          await google.colab.kernel.invokeFunction('convertToInteractive',\n",
              "                                                    [key], {});\n",
              "        if (!dataTable) return;\n",
              "\n",
              "        const docLinkHtml = 'Like what you see? Visit the ' +\n",
              "          '<a target=\"_blank\" href=https://colab.research.google.com/notebooks/data_table.ipynb>data table notebook</a>'\n",
              "          + ' to learn more about interactive tables.';\n",
              "        element.innerHTML = '';\n",
              "        dataTable['output_type'] = 'display_data';\n",
              "        await google.colab.output.renderOutput(dataTable, element);\n",
              "        const docLink = document.createElement('div');\n",
              "        docLink.innerHTML = docLinkHtml;\n",
              "        element.appendChild(docLink);\n",
              "      }\n",
              "    </script>\n",
              "  </div>\n",
              "\n",
              "\n",
              "<div id=\"df-fb710d45-a91c-4627-96df-731ddab856f2\">\n",
              "  <button class=\"colab-df-quickchart\" onclick=\"quickchart('df-fb710d45-a91c-4627-96df-731ddab856f2')\"\n",
              "            title=\"Suggest charts\"\n",
              "            style=\"display:none;\">\n",
              "\n",
              "<svg xmlns=\"http://www.w3.org/2000/svg\" height=\"24px\"viewBox=\"0 0 24 24\"\n",
              "     width=\"24px\">\n",
              "    <g>\n",
              "        <path d=\"M19 3H5c-1.1 0-2 .9-2 2v14c0 1.1.9 2 2 2h14c1.1 0 2-.9 2-2V5c0-1.1-.9-2-2-2zM9 17H7v-7h2v7zm4 0h-2V7h2v10zm4 0h-2v-4h2v4z\"/>\n",
              "    </g>\n",
              "</svg>\n",
              "  </button>\n",
              "\n",
              "<style>\n",
              "  .colab-df-quickchart {\n",
              "      --bg-color: #E8F0FE;\n",
              "      --fill-color: #1967D2;\n",
              "      --hover-bg-color: #E2EBFA;\n",
              "      --hover-fill-color: #174EA6;\n",
              "      --disabled-fill-color: #AAA;\n",
              "      --disabled-bg-color: #DDD;\n",
              "  }\n",
              "\n",
              "  [theme=dark] .colab-df-quickchart {\n",
              "      --bg-color: #3B4455;\n",
              "      --fill-color: #D2E3FC;\n",
              "      --hover-bg-color: #434B5C;\n",
              "      --hover-fill-color: #FFFFFF;\n",
              "      --disabled-bg-color: #3B4455;\n",
              "      --disabled-fill-color: #666;\n",
              "  }\n",
              "\n",
              "  .colab-df-quickchart {\n",
              "    background-color: var(--bg-color);\n",
              "    border: none;\n",
              "    border-radius: 50%;\n",
              "    cursor: pointer;\n",
              "    display: none;\n",
              "    fill: var(--fill-color);\n",
              "    height: 32px;\n",
              "    padding: 0;\n",
              "    width: 32px;\n",
              "  }\n",
              "\n",
              "  .colab-df-quickchart:hover {\n",
              "    background-color: var(--hover-bg-color);\n",
              "    box-shadow: 0 1px 2px rgba(60, 64, 67, 0.3), 0 1px 3px 1px rgba(60, 64, 67, 0.15);\n",
              "    fill: var(--button-hover-fill-color);\n",
              "  }\n",
              "\n",
              "  .colab-df-quickchart-complete:disabled,\n",
              "  .colab-df-quickchart-complete:disabled:hover {\n",
              "    background-color: var(--disabled-bg-color);\n",
              "    fill: var(--disabled-fill-color);\n",
              "    box-shadow: none;\n",
              "  }\n",
              "\n",
              "  .colab-df-spinner {\n",
              "    border: 2px solid var(--fill-color);\n",
              "    border-color: transparent;\n",
              "    border-bottom-color: var(--fill-color);\n",
              "    animation:\n",
              "      spin 1s steps(1) infinite;\n",
              "  }\n",
              "\n",
              "  @keyframes spin {\n",
              "    0% {\n",
              "      border-color: transparent;\n",
              "      border-bottom-color: var(--fill-color);\n",
              "      border-left-color: var(--fill-color);\n",
              "    }\n",
              "    20% {\n",
              "      border-color: transparent;\n",
              "      border-left-color: var(--fill-color);\n",
              "      border-top-color: var(--fill-color);\n",
              "    }\n",
              "    30% {\n",
              "      border-color: transparent;\n",
              "      border-left-color: var(--fill-color);\n",
              "      border-top-color: var(--fill-color);\n",
              "      border-right-color: var(--fill-color);\n",
              "    }\n",
              "    40% {\n",
              "      border-color: transparent;\n",
              "      border-right-color: var(--fill-color);\n",
              "      border-top-color: var(--fill-color);\n",
              "    }\n",
              "    60% {\n",
              "      border-color: transparent;\n",
              "      border-right-color: var(--fill-color);\n",
              "    }\n",
              "    80% {\n",
              "      border-color: transparent;\n",
              "      border-right-color: var(--fill-color);\n",
              "      border-bottom-color: var(--fill-color);\n",
              "    }\n",
              "    90% {\n",
              "      border-color: transparent;\n",
              "      border-bottom-color: var(--fill-color);\n",
              "    }\n",
              "  }\n",
              "</style>\n",
              "\n",
              "  <script>\n",
              "    async function quickchart(key) {\n",
              "      const quickchartButtonEl =\n",
              "        document.querySelector('#' + key + ' button');\n",
              "      quickchartButtonEl.disabled = true;  // To prevent multiple clicks.\n",
              "      quickchartButtonEl.classList.add('colab-df-spinner');\n",
              "      try {\n",
              "        const charts = await google.colab.kernel.invokeFunction(\n",
              "            'suggestCharts', [key], {});\n",
              "      } catch (error) {\n",
              "        console.error('Error during call to suggestCharts:', error);\n",
              "      }\n",
              "      quickchartButtonEl.classList.remove('colab-df-spinner');\n",
              "      quickchartButtonEl.classList.add('colab-df-quickchart-complete');\n",
              "    }\n",
              "    (() => {\n",
              "      let quickchartButtonEl =\n",
              "        document.querySelector('#df-fb710d45-a91c-4627-96df-731ddab856f2 button');\n",
              "      quickchartButtonEl.style.display =\n",
              "        google.colab.kernel.accessAllowed ? 'block' : 'none';\n",
              "    })();\n",
              "  </script>\n",
              "</div>\n",
              "\n",
              "  <div id=\"id_ef90af36-9f50-461b-97a2-27261730307f\">\n",
              "    <style>\n",
              "      .colab-df-generate {\n",
              "        background-color: #E8F0FE;\n",
              "        border: none;\n",
              "        border-radius: 50%;\n",
              "        cursor: pointer;\n",
              "        display: none;\n",
              "        fill: #1967D2;\n",
              "        height: 32px;\n",
              "        padding: 0 0 0 0;\n",
              "        width: 32px;\n",
              "      }\n",
              "\n",
              "      .colab-df-generate:hover {\n",
              "        background-color: #E2EBFA;\n",
              "        box-shadow: 0px 1px 2px rgba(60, 64, 67, 0.3), 0px 1px 3px 1px rgba(60, 64, 67, 0.15);\n",
              "        fill: #174EA6;\n",
              "      }\n",
              "\n",
              "      [theme=dark] .colab-df-generate {\n",
              "        background-color: #3B4455;\n",
              "        fill: #D2E3FC;\n",
              "      }\n",
              "\n",
              "      [theme=dark] .colab-df-generate:hover {\n",
              "        background-color: #434B5C;\n",
              "        box-shadow: 0px 1px 3px 1px rgba(0, 0, 0, 0.15);\n",
              "        filter: drop-shadow(0px 1px 2px rgba(0, 0, 0, 0.3));\n",
              "        fill: #FFFFFF;\n",
              "      }\n",
              "    </style>\n",
              "    <button class=\"colab-df-generate\" onclick=\"generateWithVariable('trainingdata')\"\n",
              "            title=\"Generate code using this dataframe.\"\n",
              "            style=\"display:none;\">\n",
              "\n",
              "  <svg xmlns=\"http://www.w3.org/2000/svg\" height=\"24px\"viewBox=\"0 0 24 24\"\n",
              "       width=\"24px\">\n",
              "    <path d=\"M7,19H8.4L18.45,9,17,7.55,7,17.6ZM5,21V16.75L18.45,3.32a2,2,0,0,1,2.83,0l1.4,1.43a1.91,1.91,0,0,1,.58,1.4,1.91,1.91,0,0,1-.58,1.4L9.25,21ZM18.45,9,17,7.55Zm-12,3A5.31,5.31,0,0,0,4.9,8.1,5.31,5.31,0,0,0,1,6.5,5.31,5.31,0,0,0,4.9,4.9,5.31,5.31,0,0,0,6.5,1,5.31,5.31,0,0,0,8.1,4.9,5.31,5.31,0,0,0,12,6.5,5.46,5.46,0,0,0,6.5,12Z\"/>\n",
              "  </svg>\n",
              "    </button>\n",
              "    <script>\n",
              "      (() => {\n",
              "      const buttonEl =\n",
              "        document.querySelector('#id_ef90af36-9f50-461b-97a2-27261730307f button.colab-df-generate');\n",
              "      buttonEl.style.display =\n",
              "        google.colab.kernel.accessAllowed ? 'block' : 'none';\n",
              "\n",
              "      buttonEl.onclick = () => {\n",
              "        google.colab.notebook.generateWithVariable('trainingdata');\n",
              "      }\n",
              "      })();\n",
              "    </script>\n",
              "  </div>\n",
              "\n",
              "    </div>\n",
              "  </div>\n"
            ],
            "application/vnd.google.colaboratory.intrinsic+json": {
              "type": "dataframe",
              "variable_name": "trainingdata",
              "summary": "{\n  \"name\": \"trainingdata\",\n  \"rows\": 77,\n  \"fields\": [\n    {\n      \"column\": \"Firm ID number\",\n      \"properties\": {\n        \"dtype\": \"number\",\n        \"std\": 23,\n        \"min\": 1,\n        \"max\": 80,\n        \"num_unique_values\": 77,\n        \"samples\": [\n          5,\n          39,\n          11\n        ],\n        \"semantic_type\": \"\",\n        \"description\": \"\"\n      }\n    },\n    {\n      \"column\": \"Stock price\",\n      \"properties\": {\n        \"dtype\": \"string\",\n        \"num_unique_values\": 77,\n        \"samples\": [\n          \"$23.30 \",\n          \"$15.66 \",\n          \"$15.94 \"\n        ],\n        \"semantic_type\": \"\",\n        \"description\": \"\"\n      }\n    },\n    {\n      \"column\": \"Permanent Earnings per share\",\n      \"properties\": {\n        \"dtype\": \"number\",\n        \"std\": 0.914653074305081,\n        \"min\": 0.863885455,\n        \"max\": 4.648668685,\n        \"num_unique_values\": 77,\n        \"samples\": [\n          2.058145612,\n          1.360969508,\n          1.311074053\n        ],\n        \"semantic_type\": \"\",\n        \"description\": \"\"\n      }\n    },\n    {\n      \"column\": \"Transitory Earnings per share\",\n      \"properties\": {\n        \"dtype\": \"number\",\n        \"std\": 0.2714663219652171,\n        \"min\": 0.124404217,\n        \"max\": 1.284082296,\n        \"num_unique_values\": 77,\n        \"samples\": [\n          0.607008279,\n          0.349216464,\n          0.190859435\n        ],\n        \"semantic_type\": \"\",\n        \"description\": \"\"\n      }\n    },\n    {\n      \"column\": \"Earnings per share\",\n      \"properties\": {\n        \"dtype\": \"number\",\n        \"std\": 1.0991431651835655,\n        \"min\": 1.087124021,\n        \"max\": 5.914993513,\n        \"num_unique_values\": 77,\n        \"samples\": [\n          2.665153891,\n          1.710185972,\n          1.501933488\n        ],\n        \"semantic_type\": \"\",\n        \"description\": \"\"\n      }\n    }\n  ]\n}"
            }
          },
          "metadata": {},
          "execution_count": 8
        }
      ]
    },
    {
      "cell_type": "markdown",
      "source": [
        "## 3 Data preprocess"
      ],
      "metadata": {
        "id": "Z1p4c4CiJWGA"
      }
    },
    {
      "cell_type": "markdown",
      "metadata": {
        "id": "8w_PQwPLoxNG"
      },
      "source": [
        "#### 3.1 **Question**: Can you find stock price in the \"trainingdata\"? How to read it into dataframe \"traningdata\" as a number instead of a string? Hint: you need to add a converter for the relevant column. Refer to https://pandas.pydata.org/pandas-docs/stable/reference/api/pandas.Series.str.replace.html**"
      ]
    },
    {
      "cell_type": "code",
      "metadata": {
        "id": "BXScDbQ0oxNG",
        "colab": {
          "base_uri": "https://localhost:8080/"
        },
        "outputId": "e9785b9e-5e49-4ceb-ea41-c2e83280afda"
      },
      "source": [
        "# Enter code here to remove the dollar sign in the stock price\n",
        "trainingdata['Stock price'] = trainingdata['Stock price'].str.replace('$', '').astype(float)"
      ],
      "execution_count": null,
      "outputs": [
        {
          "output_type": "stream",
          "name": "stderr",
          "text": [
            "<ipython-input-9-45e7b6a98632>:2: SettingWithCopyWarning: \n",
            "A value is trying to be set on a copy of a slice from a DataFrame.\n",
            "Try using .loc[row_indexer,col_indexer] = value instead\n",
            "\n",
            "See the caveats in the documentation: https://pandas.pydata.org/pandas-docs/stable/user_guide/indexing.html#returning-a-view-versus-a-copy\n",
            "  trainingdata['Stock price'] = trainingdata['Stock price'].str.replace('$', '').astype(float)\n"
          ]
        }
      ]
    },
    {
      "cell_type": "code",
      "source": [
        "trainingdata"
      ],
      "metadata": {
        "colab": {
          "base_uri": "https://localhost:8080/",
          "height": 419
        },
        "id": "_8VsqAe0i-oR",
        "outputId": "ff26b936-9b45-4f4e-dcda-e1ae21818c45"
      },
      "execution_count": null,
      "outputs": [
        {
          "output_type": "execute_result",
          "data": {
            "text/plain": [
              "    Firm ID number  Stock price  Permanent Earnings per share  \\\n",
              "0                1        32.04                      3.196532   \n",
              "1                2        19.99                      1.858204   \n",
              "2                3        18.93                      1.479520   \n",
              "3                4        16.99                      1.401072   \n",
              "4                5        23.30                      2.058146   \n",
              "..             ...          ...                           ...   \n",
              "75              76        33.76                      3.149658   \n",
              "76              77        19.76                      1.796936   \n",
              "77              78        33.27                      3.083121   \n",
              "78              79        18.07                      1.695720   \n",
              "79              80        24.67                      2.516423   \n",
              "\n",
              "    Transitory Earnings per share  Earnings per share  \n",
              "0                        0.901537            4.098069  \n",
              "1                        0.461790            2.319993  \n",
              "2                        0.324834            1.804355  \n",
              "3                        0.363023            1.764096  \n",
              "4                        0.607008            2.665154  \n",
              "..                            ...                 ...  \n",
              "75                       0.446015            3.595673  \n",
              "76                       0.382118            2.179054  \n",
              "77                       0.239894            3.323015  \n",
              "78                       0.546037            2.241758  \n",
              "79                       1.141087            3.657509  \n",
              "\n",
              "[77 rows x 5 columns]"
            ],
            "text/html": [
              "\n",
              "  <div id=\"df-5c21061f-5197-4a34-8ad0-87175958b93f\" class=\"colab-df-container\">\n",
              "    <div>\n",
              "<style scoped>\n",
              "    .dataframe tbody tr th:only-of-type {\n",
              "        vertical-align: middle;\n",
              "    }\n",
              "\n",
              "    .dataframe tbody tr th {\n",
              "        vertical-align: top;\n",
              "    }\n",
              "\n",
              "    .dataframe thead th {\n",
              "        text-align: right;\n",
              "    }\n",
              "</style>\n",
              "<table border=\"1\" class=\"dataframe\">\n",
              "  <thead>\n",
              "    <tr style=\"text-align: right;\">\n",
              "      <th></th>\n",
              "      <th>Firm ID number</th>\n",
              "      <th>Stock price</th>\n",
              "      <th>Permanent Earnings per share</th>\n",
              "      <th>Transitory Earnings per share</th>\n",
              "      <th>Earnings per share</th>\n",
              "    </tr>\n",
              "  </thead>\n",
              "  <tbody>\n",
              "    <tr>\n",
              "      <th>0</th>\n",
              "      <td>1</td>\n",
              "      <td>32.04</td>\n",
              "      <td>3.196532</td>\n",
              "      <td>0.901537</td>\n",
              "      <td>4.098069</td>\n",
              "    </tr>\n",
              "    <tr>\n",
              "      <th>1</th>\n",
              "      <td>2</td>\n",
              "      <td>19.99</td>\n",
              "      <td>1.858204</td>\n",
              "      <td>0.461790</td>\n",
              "      <td>2.319993</td>\n",
              "    </tr>\n",
              "    <tr>\n",
              "      <th>2</th>\n",
              "      <td>3</td>\n",
              "      <td>18.93</td>\n",
              "      <td>1.479520</td>\n",
              "      <td>0.324834</td>\n",
              "      <td>1.804355</td>\n",
              "    </tr>\n",
              "    <tr>\n",
              "      <th>3</th>\n",
              "      <td>4</td>\n",
              "      <td>16.99</td>\n",
              "      <td>1.401072</td>\n",
              "      <td>0.363023</td>\n",
              "      <td>1.764096</td>\n",
              "    </tr>\n",
              "    <tr>\n",
              "      <th>4</th>\n",
              "      <td>5</td>\n",
              "      <td>23.30</td>\n",
              "      <td>2.058146</td>\n",
              "      <td>0.607008</td>\n",
              "      <td>2.665154</td>\n",
              "    </tr>\n",
              "    <tr>\n",
              "      <th>...</th>\n",
              "      <td>...</td>\n",
              "      <td>...</td>\n",
              "      <td>...</td>\n",
              "      <td>...</td>\n",
              "      <td>...</td>\n",
              "    </tr>\n",
              "    <tr>\n",
              "      <th>75</th>\n",
              "      <td>76</td>\n",
              "      <td>33.76</td>\n",
              "      <td>3.149658</td>\n",
              "      <td>0.446015</td>\n",
              "      <td>3.595673</td>\n",
              "    </tr>\n",
              "    <tr>\n",
              "      <th>76</th>\n",
              "      <td>77</td>\n",
              "      <td>19.76</td>\n",
              "      <td>1.796936</td>\n",
              "      <td>0.382118</td>\n",
              "      <td>2.179054</td>\n",
              "    </tr>\n",
              "    <tr>\n",
              "      <th>77</th>\n",
              "      <td>78</td>\n",
              "      <td>33.27</td>\n",
              "      <td>3.083121</td>\n",
              "      <td>0.239894</td>\n",
              "      <td>3.323015</td>\n",
              "    </tr>\n",
              "    <tr>\n",
              "      <th>78</th>\n",
              "      <td>79</td>\n",
              "      <td>18.07</td>\n",
              "      <td>1.695720</td>\n",
              "      <td>0.546037</td>\n",
              "      <td>2.241758</td>\n",
              "    </tr>\n",
              "    <tr>\n",
              "      <th>79</th>\n",
              "      <td>80</td>\n",
              "      <td>24.67</td>\n",
              "      <td>2.516423</td>\n",
              "      <td>1.141087</td>\n",
              "      <td>3.657509</td>\n",
              "    </tr>\n",
              "  </tbody>\n",
              "</table>\n",
              "<p>77 rows × 5 columns</p>\n",
              "</div>\n",
              "    <div class=\"colab-df-buttons\">\n",
              "\n",
              "  <div class=\"colab-df-container\">\n",
              "    <button class=\"colab-df-convert\" onclick=\"convertToInteractive('df-5c21061f-5197-4a34-8ad0-87175958b93f')\"\n",
              "            title=\"Convert this dataframe to an interactive table.\"\n",
              "            style=\"display:none;\">\n",
              "\n",
              "  <svg xmlns=\"http://www.w3.org/2000/svg\" height=\"24px\" viewBox=\"0 -960 960 960\">\n",
              "    <path d=\"M120-120v-720h720v720H120Zm60-500h600v-160H180v160Zm220 220h160v-160H400v160Zm0 220h160v-160H400v160ZM180-400h160v-160H180v160Zm440 0h160v-160H620v160ZM180-180h160v-160H180v160Zm440 0h160v-160H620v160Z\"/>\n",
              "  </svg>\n",
              "    </button>\n",
              "\n",
              "  <style>\n",
              "    .colab-df-container {\n",
              "      display:flex;\n",
              "      gap: 12px;\n",
              "    }\n",
              "\n",
              "    .colab-df-convert {\n",
              "      background-color: #E8F0FE;\n",
              "      border: none;\n",
              "      border-radius: 50%;\n",
              "      cursor: pointer;\n",
              "      display: none;\n",
              "      fill: #1967D2;\n",
              "      height: 32px;\n",
              "      padding: 0 0 0 0;\n",
              "      width: 32px;\n",
              "    }\n",
              "\n",
              "    .colab-df-convert:hover {\n",
              "      background-color: #E2EBFA;\n",
              "      box-shadow: 0px 1px 2px rgba(60, 64, 67, 0.3), 0px 1px 3px 1px rgba(60, 64, 67, 0.15);\n",
              "      fill: #174EA6;\n",
              "    }\n",
              "\n",
              "    .colab-df-buttons div {\n",
              "      margin-bottom: 4px;\n",
              "    }\n",
              "\n",
              "    [theme=dark] .colab-df-convert {\n",
              "      background-color: #3B4455;\n",
              "      fill: #D2E3FC;\n",
              "    }\n",
              "\n",
              "    [theme=dark] .colab-df-convert:hover {\n",
              "      background-color: #434B5C;\n",
              "      box-shadow: 0px 1px 3px 1px rgba(0, 0, 0, 0.15);\n",
              "      filter: drop-shadow(0px 1px 2px rgba(0, 0, 0, 0.3));\n",
              "      fill: #FFFFFF;\n",
              "    }\n",
              "  </style>\n",
              "\n",
              "    <script>\n",
              "      const buttonEl =\n",
              "        document.querySelector('#df-5c21061f-5197-4a34-8ad0-87175958b93f button.colab-df-convert');\n",
              "      buttonEl.style.display =\n",
              "        google.colab.kernel.accessAllowed ? 'block' : 'none';\n",
              "\n",
              "      async function convertToInteractive(key) {\n",
              "        const element = document.querySelector('#df-5c21061f-5197-4a34-8ad0-87175958b93f');\n",
              "        const dataTable =\n",
              "          await google.colab.kernel.invokeFunction('convertToInteractive',\n",
              "                                                    [key], {});\n",
              "        if (!dataTable) return;\n",
              "\n",
              "        const docLinkHtml = 'Like what you see? Visit the ' +\n",
              "          '<a target=\"_blank\" href=https://colab.research.google.com/notebooks/data_table.ipynb>data table notebook</a>'\n",
              "          + ' to learn more about interactive tables.';\n",
              "        element.innerHTML = '';\n",
              "        dataTable['output_type'] = 'display_data';\n",
              "        await google.colab.output.renderOutput(dataTable, element);\n",
              "        const docLink = document.createElement('div');\n",
              "        docLink.innerHTML = docLinkHtml;\n",
              "        element.appendChild(docLink);\n",
              "      }\n",
              "    </script>\n",
              "  </div>\n",
              "\n",
              "\n",
              "<div id=\"df-db711aa9-79e4-4b2e-a1cb-495c38d50883\">\n",
              "  <button class=\"colab-df-quickchart\" onclick=\"quickchart('df-db711aa9-79e4-4b2e-a1cb-495c38d50883')\"\n",
              "            title=\"Suggest charts\"\n",
              "            style=\"display:none;\">\n",
              "\n",
              "<svg xmlns=\"http://www.w3.org/2000/svg\" height=\"24px\"viewBox=\"0 0 24 24\"\n",
              "     width=\"24px\">\n",
              "    <g>\n",
              "        <path d=\"M19 3H5c-1.1 0-2 .9-2 2v14c0 1.1.9 2 2 2h14c1.1 0 2-.9 2-2V5c0-1.1-.9-2-2-2zM9 17H7v-7h2v7zm4 0h-2V7h2v10zm4 0h-2v-4h2v4z\"/>\n",
              "    </g>\n",
              "</svg>\n",
              "  </button>\n",
              "\n",
              "<style>\n",
              "  .colab-df-quickchart {\n",
              "      --bg-color: #E8F0FE;\n",
              "      --fill-color: #1967D2;\n",
              "      --hover-bg-color: #E2EBFA;\n",
              "      --hover-fill-color: #174EA6;\n",
              "      --disabled-fill-color: #AAA;\n",
              "      --disabled-bg-color: #DDD;\n",
              "  }\n",
              "\n",
              "  [theme=dark] .colab-df-quickchart {\n",
              "      --bg-color: #3B4455;\n",
              "      --fill-color: #D2E3FC;\n",
              "      --hover-bg-color: #434B5C;\n",
              "      --hover-fill-color: #FFFFFF;\n",
              "      --disabled-bg-color: #3B4455;\n",
              "      --disabled-fill-color: #666;\n",
              "  }\n",
              "\n",
              "  .colab-df-quickchart {\n",
              "    background-color: var(--bg-color);\n",
              "    border: none;\n",
              "    border-radius: 50%;\n",
              "    cursor: pointer;\n",
              "    display: none;\n",
              "    fill: var(--fill-color);\n",
              "    height: 32px;\n",
              "    padding: 0;\n",
              "    width: 32px;\n",
              "  }\n",
              "\n",
              "  .colab-df-quickchart:hover {\n",
              "    background-color: var(--hover-bg-color);\n",
              "    box-shadow: 0 1px 2px rgba(60, 64, 67, 0.3), 0 1px 3px 1px rgba(60, 64, 67, 0.15);\n",
              "    fill: var(--button-hover-fill-color);\n",
              "  }\n",
              "\n",
              "  .colab-df-quickchart-complete:disabled,\n",
              "  .colab-df-quickchart-complete:disabled:hover {\n",
              "    background-color: var(--disabled-bg-color);\n",
              "    fill: var(--disabled-fill-color);\n",
              "    box-shadow: none;\n",
              "  }\n",
              "\n",
              "  .colab-df-spinner {\n",
              "    border: 2px solid var(--fill-color);\n",
              "    border-color: transparent;\n",
              "    border-bottom-color: var(--fill-color);\n",
              "    animation:\n",
              "      spin 1s steps(1) infinite;\n",
              "  }\n",
              "\n",
              "  @keyframes spin {\n",
              "    0% {\n",
              "      border-color: transparent;\n",
              "      border-bottom-color: var(--fill-color);\n",
              "      border-left-color: var(--fill-color);\n",
              "    }\n",
              "    20% {\n",
              "      border-color: transparent;\n",
              "      border-left-color: var(--fill-color);\n",
              "      border-top-color: var(--fill-color);\n",
              "    }\n",
              "    30% {\n",
              "      border-color: transparent;\n",
              "      border-left-color: var(--fill-color);\n",
              "      border-top-color: var(--fill-color);\n",
              "      border-right-color: var(--fill-color);\n",
              "    }\n",
              "    40% {\n",
              "      border-color: transparent;\n",
              "      border-right-color: var(--fill-color);\n",
              "      border-top-color: var(--fill-color);\n",
              "    }\n",
              "    60% {\n",
              "      border-color: transparent;\n",
              "      border-right-color: var(--fill-color);\n",
              "    }\n",
              "    80% {\n",
              "      border-color: transparent;\n",
              "      border-right-color: var(--fill-color);\n",
              "      border-bottom-color: var(--fill-color);\n",
              "    }\n",
              "    90% {\n",
              "      border-color: transparent;\n",
              "      border-bottom-color: var(--fill-color);\n",
              "    }\n",
              "  }\n",
              "</style>\n",
              "\n",
              "  <script>\n",
              "    async function quickchart(key) {\n",
              "      const quickchartButtonEl =\n",
              "        document.querySelector('#' + key + ' button');\n",
              "      quickchartButtonEl.disabled = true;  // To prevent multiple clicks.\n",
              "      quickchartButtonEl.classList.add('colab-df-spinner');\n",
              "      try {\n",
              "        const charts = await google.colab.kernel.invokeFunction(\n",
              "            'suggestCharts', [key], {});\n",
              "      } catch (error) {\n",
              "        console.error('Error during call to suggestCharts:', error);\n",
              "      }\n",
              "      quickchartButtonEl.classList.remove('colab-df-spinner');\n",
              "      quickchartButtonEl.classList.add('colab-df-quickchart-complete');\n",
              "    }\n",
              "    (() => {\n",
              "      let quickchartButtonEl =\n",
              "        document.querySelector('#df-db711aa9-79e4-4b2e-a1cb-495c38d50883 button');\n",
              "      quickchartButtonEl.style.display =\n",
              "        google.colab.kernel.accessAllowed ? 'block' : 'none';\n",
              "    })();\n",
              "  </script>\n",
              "</div>\n",
              "\n",
              "  <div id=\"id_aa3ea317-2f4c-429a-82a3-93b81cb21920\">\n",
              "    <style>\n",
              "      .colab-df-generate {\n",
              "        background-color: #E8F0FE;\n",
              "        border: none;\n",
              "        border-radius: 50%;\n",
              "        cursor: pointer;\n",
              "        display: none;\n",
              "        fill: #1967D2;\n",
              "        height: 32px;\n",
              "        padding: 0 0 0 0;\n",
              "        width: 32px;\n",
              "      }\n",
              "\n",
              "      .colab-df-generate:hover {\n",
              "        background-color: #E2EBFA;\n",
              "        box-shadow: 0px 1px 2px rgba(60, 64, 67, 0.3), 0px 1px 3px 1px rgba(60, 64, 67, 0.15);\n",
              "        fill: #174EA6;\n",
              "      }\n",
              "\n",
              "      [theme=dark] .colab-df-generate {\n",
              "        background-color: #3B4455;\n",
              "        fill: #D2E3FC;\n",
              "      }\n",
              "\n",
              "      [theme=dark] .colab-df-generate:hover {\n",
              "        background-color: #434B5C;\n",
              "        box-shadow: 0px 1px 3px 1px rgba(0, 0, 0, 0.15);\n",
              "        filter: drop-shadow(0px 1px 2px rgba(0, 0, 0, 0.3));\n",
              "        fill: #FFFFFF;\n",
              "      }\n",
              "    </style>\n",
              "    <button class=\"colab-df-generate\" onclick=\"generateWithVariable('trainingdata')\"\n",
              "            title=\"Generate code using this dataframe.\"\n",
              "            style=\"display:none;\">\n",
              "\n",
              "  <svg xmlns=\"http://www.w3.org/2000/svg\" height=\"24px\"viewBox=\"0 0 24 24\"\n",
              "       width=\"24px\">\n",
              "    <path d=\"M7,19H8.4L18.45,9,17,7.55,7,17.6ZM5,21V16.75L18.45,3.32a2,2,0,0,1,2.83,0l1.4,1.43a1.91,1.91,0,0,1,.58,1.4,1.91,1.91,0,0,1-.58,1.4L9.25,21ZM18.45,9,17,7.55Zm-12,3A5.31,5.31,0,0,0,4.9,8.1,5.31,5.31,0,0,0,1,6.5,5.31,5.31,0,0,0,4.9,4.9,5.31,5.31,0,0,0,6.5,1,5.31,5.31,0,0,0,8.1,4.9,5.31,5.31,0,0,0,12,6.5,5.46,5.46,0,0,0,6.5,12Z\"/>\n",
              "  </svg>\n",
              "    </button>\n",
              "    <script>\n",
              "      (() => {\n",
              "      const buttonEl =\n",
              "        document.querySelector('#id_aa3ea317-2f4c-429a-82a3-93b81cb21920 button.colab-df-generate');\n",
              "      buttonEl.style.display =\n",
              "        google.colab.kernel.accessAllowed ? 'block' : 'none';\n",
              "\n",
              "      buttonEl.onclick = () => {\n",
              "        google.colab.notebook.generateWithVariable('trainingdata');\n",
              "      }\n",
              "      })();\n",
              "    </script>\n",
              "  </div>\n",
              "\n",
              "    </div>\n",
              "  </div>\n"
            ],
            "application/vnd.google.colaboratory.intrinsic+json": {
              "type": "dataframe",
              "variable_name": "trainingdata",
              "summary": "{\n  \"name\": \"trainingdata\",\n  \"rows\": 77,\n  \"fields\": [\n    {\n      \"column\": \"Firm ID number\",\n      \"properties\": {\n        \"dtype\": \"number\",\n        \"std\": 23,\n        \"min\": 1,\n        \"max\": 80,\n        \"num_unique_values\": 77,\n        \"samples\": [\n          5,\n          39,\n          11\n        ],\n        \"semantic_type\": \"\",\n        \"description\": \"\"\n      }\n    },\n    {\n      \"column\": \"Stock price\",\n      \"properties\": {\n        \"dtype\": \"number\",\n        \"std\": 8.305348146007136,\n        \"min\": 12.4,\n        \"max\": 45.52,\n        \"num_unique_values\": 77,\n        \"samples\": [\n          23.3,\n          15.66,\n          15.94\n        ],\n        \"semantic_type\": \"\",\n        \"description\": \"\"\n      }\n    },\n    {\n      \"column\": \"Permanent Earnings per share\",\n      \"properties\": {\n        \"dtype\": \"number\",\n        \"std\": 0.914653074305081,\n        \"min\": 0.863885455,\n        \"max\": 4.648668685,\n        \"num_unique_values\": 77,\n        \"samples\": [\n          2.058145612,\n          1.360969508,\n          1.311074053\n        ],\n        \"semantic_type\": \"\",\n        \"description\": \"\"\n      }\n    },\n    {\n      \"column\": \"Transitory Earnings per share\",\n      \"properties\": {\n        \"dtype\": \"number\",\n        \"std\": 0.2714663219652171,\n        \"min\": 0.124404217,\n        \"max\": 1.284082296,\n        \"num_unique_values\": 77,\n        \"samples\": [\n          0.607008279,\n          0.349216464,\n          0.190859435\n        ],\n        \"semantic_type\": \"\",\n        \"description\": \"\"\n      }\n    },\n    {\n      \"column\": \"Earnings per share\",\n      \"properties\": {\n        \"dtype\": \"number\",\n        \"std\": 1.0991431651835655,\n        \"min\": 1.087124021,\n        \"max\": 5.914993513,\n        \"num_unique_values\": 77,\n        \"samples\": [\n          2.665153891,\n          1.710185972,\n          1.501933488\n        ],\n        \"semantic_type\": \"\",\n        \"description\": \"\"\n      }\n    }\n  ]\n}"
            }
          },
          "metadata": {},
          "execution_count": 10
        }
      ]
    },
    {
      "cell_type": "code",
      "metadata": {
        "id": "fcAmixKPCoyF",
        "colab": {
          "base_uri": "https://localhost:8080/"
        },
        "outputId": "901bd384-a2c1-44c0-9ef6-fd92c8a2974c"
      },
      "source": [
        "# Convert object data type to numeric data type\n",
        "trainingdata['Stock price'] = pd.to_numeric(trainingdata['Stock price'], errors='coerce')\n",
        "# Enter code here to convert other columns into numeric data types\n",
        "trainingdata['Permanent Earnings per share'] = pd.to_numeric(trainingdata['Permanent Earnings per share'], errors='coerce')\n",
        "trainingdata['Transitory Earnings per share'] = pd.to_numeric(trainingdata['Transitory Earnings per share'], errors='coerce')\n",
        "trainingdata['Earnings per share'] = pd.to_numeric(trainingdata['Earnings per share'], errors='coerce')"
      ],
      "execution_count": null,
      "outputs": [
        {
          "output_type": "stream",
          "name": "stderr",
          "text": [
            "<ipython-input-11-9a38422d841b>:2: SettingWithCopyWarning: \n",
            "A value is trying to be set on a copy of a slice from a DataFrame.\n",
            "Try using .loc[row_indexer,col_indexer] = value instead\n",
            "\n",
            "See the caveats in the documentation: https://pandas.pydata.org/pandas-docs/stable/user_guide/indexing.html#returning-a-view-versus-a-copy\n",
            "  trainingdata['Stock price'] = pd.to_numeric(trainingdata['Stock price'], errors='coerce')\n",
            "<ipython-input-11-9a38422d841b>:4: SettingWithCopyWarning: \n",
            "A value is trying to be set on a copy of a slice from a DataFrame.\n",
            "Try using .loc[row_indexer,col_indexer] = value instead\n",
            "\n",
            "See the caveats in the documentation: https://pandas.pydata.org/pandas-docs/stable/user_guide/indexing.html#returning-a-view-versus-a-copy\n",
            "  trainingdata['Permanent Earnings per share'] = pd.to_numeric(trainingdata['Permanent Earnings per share'], errors='coerce')\n",
            "<ipython-input-11-9a38422d841b>:5: SettingWithCopyWarning: \n",
            "A value is trying to be set on a copy of a slice from a DataFrame.\n",
            "Try using .loc[row_indexer,col_indexer] = value instead\n",
            "\n",
            "See the caveats in the documentation: https://pandas.pydata.org/pandas-docs/stable/user_guide/indexing.html#returning-a-view-versus-a-copy\n",
            "  trainingdata['Transitory Earnings per share'] = pd.to_numeric(trainingdata['Transitory Earnings per share'], errors='coerce')\n",
            "<ipython-input-11-9a38422d841b>:6: SettingWithCopyWarning: \n",
            "A value is trying to be set on a copy of a slice from a DataFrame.\n",
            "Try using .loc[row_indexer,col_indexer] = value instead\n",
            "\n",
            "See the caveats in the documentation: https://pandas.pydata.org/pandas-docs/stable/user_guide/indexing.html#returning-a-view-versus-a-copy\n",
            "  trainingdata['Earnings per share'] = pd.to_numeric(trainingdata['Earnings per share'], errors='coerce')\n"
          ]
        }
      ]
    },
    {
      "cell_type": "code",
      "source": [
        "trainingdata.dtypes"
      ],
      "metadata": {
        "colab": {
          "base_uri": "https://localhost:8080/"
        },
        "id": "KTM8u2LTlUgR",
        "outputId": "95182678-8fa5-4e34-feed-d5d35fa57c55"
      },
      "execution_count": null,
      "outputs": [
        {
          "output_type": "execute_result",
          "data": {
            "text/plain": [
              "Firm ID number                     int64\n",
              "Stock price                      float64\n",
              "Permanent Earnings per share     float64\n",
              "Transitory Earnings per share    float64\n",
              "Earnings per share               float64\n",
              "dtype: object"
            ]
          },
          "metadata": {},
          "execution_count": 12
        }
      ]
    },
    {
      "cell_type": "markdown",
      "source": [
        "## 4 Exploratory data analysis"
      ],
      "metadata": {
        "id": "B5XTvP87JajO"
      }
    },
    {
      "cell_type": "markdown",
      "metadata": {
        "id": "uW7WkPpxoxNJ"
      },
      "source": [
        "#### 4.1 **Question**: Find the relationship between the Earnings per share and stock price by plotting stock price against it"
      ]
    },
    {
      "cell_type": "code",
      "metadata": {
        "id": "kL2CiUV6oxNK",
        "colab": {
          "base_uri": "https://localhost:8080/",
          "height": 564
        },
        "outputId": "105754de-a3c0-436e-9fd8-9d43bc22b11b"
      },
      "source": [
        "#Enter code here to plot the relationship\n",
        "import matplotlib.pyplot as plt\n",
        "plt.figure(figsize=(10, 6))\n",
        "plt.scatter(trainingdata['Earnings per share'], trainingdata['Stock price'])\n",
        "plt.title('Relationship of Earnings per share and Stock price')\n",
        "plt.xlabel('EPS')\n",
        "plt.ylabel('Stock Price')\n",
        "plt.grid(True)\n",
        "plt.show()"
      ],
      "execution_count": null,
      "outputs": [
        {
          "output_type": "display_data",
          "data": {
            "text/plain": [
              "<Figure size 1000x600 with 1 Axes>"
            ],
            "image/png": "[encoded data removed]"
          },
          "metadata": {}
        }
      ]
    },
    {
      "cell_type": "markdown",
      "metadata": {
        "id": "7EBbhRodoxNL"
      },
      "source": [
        "#### 4.2 **Question**:  Comment on the relationships above.\n",
        "\n",
        "a.Is it a positive or negative relationship, or is there no relationship?\n",
        "\n",
        "b.How does stock price change for a unit change in Earnings per share ?"
      ]
    },
    {
      "cell_type": "code",
      "metadata": {
        "id": "cDpqu8InoxNL",
        "colab": {
          "base_uri": "https://localhost:8080/"
        },
        "outputId": "6340d04c-efd0-473b-97e8-3d3dad75c498"
      },
      "source": [
        "print (len((\"a.The relationship between Earnings per share and Stock price is positive\").split()))\n",
        "print (len((\"b.For each unit change in Earnings per share, stock price changes roughly 5 dollars\").split()))"
      ],
      "execution_count": null,
      "outputs": [
        {
          "output_type": "stream",
          "name": "stdout",
          "text": [
            "11\n",
            "14\n"
          ]
        }
      ]
    },
    {
      "cell_type": "markdown",
      "metadata": {
        "id": "X4nKWUCDSlmZ"
      },
      "source": [
        "#### 4.3 **Question**: Find the relationship between the Transitory Earnings per share and stock price by plotting stock price against it"
      ]
    },
    {
      "cell_type": "code",
      "metadata": {
        "id": "56OTedM8Slma",
        "colab": {
          "base_uri": "https://localhost:8080/",
          "height": 564
        },
        "outputId": "dabc547e-6d5a-4688-dbc8-f568f98a7377"
      },
      "source": [
        "#Enter code here to plot the relationship\n",
        "import matplotlib.pyplot as plt\n",
        "plt.figure(figsize=(10, 6))\n",
        "plt.scatter(trainingdata['Transitory Earnings per share'], trainingdata['Stock price'])\n",
        "plt.title('Relationship of Transitory Earnings per share and Stock price')\n",
        "plt.xlabel('TEPS')\n",
        "plt.ylabel('Stock Price')\n",
        "plt.grid(True)\n",
        "plt.show()"
      ],
      "execution_count": null,
      "outputs": [
        {
          "output_type": "display_data",
          "data": {
            "text/plain": [
              "<Figure size 1000x600 with 1 Axes>"
            ],
            "image/png": "[encoded data removed]"
          },
          "metadata": {}
        }
      ]
    },
    {
      "cell_type": "markdown",
      "metadata": {
        "id": "xmlPCsy1Slmb"
      },
      "source": [
        "#### 4.4 **Question**:  Comment on the relationships above.\n",
        "\n",
        "a.Is it a positive or negative relationship, or is there no relationship?\n",
        "\n",
        "b.How does stock price change for a unit change in Transitory Earnings per share ?"
      ]
    },
    {
      "cell_type": "code",
      "metadata": {
        "id": "2XFh2Gn2Slmb",
        "colab": {
          "base_uri": "https://localhost:8080/"
        },
        "outputId": "a64144c9-f6bf-434f-f3a2-540e114e483f"
      },
      "source": [
        "print (len((\"a.There seems to be no relationship between Transitory Earnings per share and Stock price\").split()))\n",
        "print (len((\"Since there's no relationship, the TEPS change seems to have no effect on the change in Stock price \").split()))"
      ],
      "execution_count": null,
      "outputs": [
        {
          "output_type": "stream",
          "name": "stdout",
          "text": [
            "14\n",
            "18\n"
          ]
        }
      ]
    },
    {
      "cell_type": "markdown",
      "metadata": {
        "id": "_TkI-K7nS-mk"
      },
      "source": [
        "#### 4.5 **Question**: Find the relationship between the Permanent Earnings per share and stock price by plotting stock price against it"
      ]
    },
    {
      "cell_type": "code",
      "metadata": {
        "id": "x5vlNmDmS-ml",
        "colab": {
          "base_uri": "https://localhost:8080/",
          "height": 564
        },
        "outputId": "82bbd4c0-475a-4014-c5c2-8d4a4cfcf449"
      },
      "source": [
        "#Enter code here to plot the relationship\n",
        "import matplotlib.pyplot as plt\n",
        "plt.figure(figsize=(10, 6))\n",
        "plt.scatter(trainingdata['Permanent Earnings per share'], trainingdata['Stock price'])\n",
        "plt.title('Relationship of Permanent Earnings per share and Stock price')\n",
        "plt.xlabel('PEPS')\n",
        "plt.ylabel('Stock Price')\n",
        "plt.grid(True)\n",
        "plt.show()"
      ],
      "execution_count": null,
      "outputs": [
        {
          "output_type": "display_data",
          "data": {
            "text/plain": [
              "<Figure size 1000x600 with 1 Axes>"
            ],
            "image/png": "[encoded data removed]"
          },
          "metadata": {}
        }
      ]
    },
    {
      "cell_type": "markdown",
      "metadata": {
        "id": "fMFgHesDS-ml"
      },
      "source": [
        "#### 4.6 **Question**:  Comment on the relationships above.\n",
        "\n",
        "a.Is it a positive or negative relationship, or is there no relationship?\n",
        "\n",
        "b.How does stock price change for a unit change in Permanent Earnings per share ?"
      ]
    },
    {
      "cell_type": "code",
      "metadata": {
        "id": "03S-DDOWS-mm",
        "colab": {
          "base_uri": "https://localhost:8080/"
        },
        "outputId": "f2cc80ee-0366-4399-aaa6-e7b5ae02fb47"
      },
      "source": [
        "print (len((\"a.This is a positive relationship\").split()))\n",
        "print (len((\"b. For each unit change in PEPS, there's about a 10 dollar change in Stock price\").split()))"
      ],
      "execution_count": null,
      "outputs": [
        {
          "output_type": "stream",
          "name": "stdout",
          "text": [
            "5\n",
            "16\n"
          ]
        }
      ]
    },
    {
      "cell_type": "markdown",
      "source": [
        "## 5 Predictive data analysis"
      ],
      "metadata": {
        "id": "0zDpmcZUJv5o"
      }
    },
    {
      "cell_type": "markdown",
      "source": [
        "#### **5.1** Question: Typically predictive data anlyasis goes through a list of processes below. Please identify the steps we used in this section 5 for each process.\n",
        "* Split dataset for traning and testing\n",
        "* Extract features\n",
        "* Build a ML model\n",
        "* Train the model\n",
        "* Make predictions\n",
        "* Evaluate the modle"
      ],
      "metadata": {
        "id": "AVKAsqH-J_8j"
      }
    },
    {
      "cell_type": "code",
      "source": [
        "print (len(\"Split dataset --- step numbers related are 5.2\"))\n",
        "print (len(\"Extract features --- step numbers related are 5.2\"))\n",
        "print (len(\"Build a ML model --- step numbers related are 5.3\"))\n",
        "print (len(\"Train the model --- step numbers related are 5.4\"))\n",
        "print (len(\"Make predictions --- step numbers related are 5.4\"))\n",
        "print (len(\"Evaluate the model --- step numbers related are 6\"))"
      ],
      "metadata": {
        "colab": {
          "base_uri": "https://localhost:8080/"
        },
        "id": "M74SgBXHLMAn",
        "outputId": "aed4eb9d-88c2-470a-e65c-813e0f40178d"
      },
      "execution_count": 34,
      "outputs": [
        {
          "output_type": "stream",
          "name": "stdout",
          "text": [
            "46\n",
            "49\n",
            "49\n",
            "48\n",
            "49\n",
            "49\n"
          ]
        }
      ]
    },
    {
      "cell_type": "markdown",
      "metadata": {
        "id": "Kldlm_WNoxNT"
      },
      "source": [
        "\n",
        "\n",
        "#### **5.2** Question:The next two lines split the data into two chunks. Train_X is the features and their values from the training dataset. Train_y is the class value that we want to predict.Note that we have removed Earnings per share from trainging data. Please explain why we remove the Earnings per share from training data.\n"
      ]
    },
    {
      "cell_type": "code",
      "source": [
        "trainingdata"
      ],
      "metadata": {
        "colab": {
          "base_uri": "https://localhost:8080/",
          "height": 419
        },
        "id": "NHckqJEKW5Qs",
        "outputId": "3e70224e-9aaa-442c-a35a-7ecb845e894a"
      },
      "execution_count": null,
      "outputs": [
        {
          "output_type": "execute_result",
          "data": {
            "text/plain": [
              "    Firm ID number  Stock price  Permanent Earnings per share  \\\n",
              "0                1        32.04                      3.196532   \n",
              "1                2        19.99                      1.858204   \n",
              "2                3        18.93                      1.479520   \n",
              "3                4        16.99                      1.401072   \n",
              "4                5        23.30                      2.058146   \n",
              "..             ...          ...                           ...   \n",
              "75              76        33.76                      3.149658   \n",
              "76              77        19.76                      1.796936   \n",
              "77              78        33.27                      3.083121   \n",
              "78              79        18.07                      1.695720   \n",
              "79              80        24.67                      2.516423   \n",
              "\n",
              "    Transitory Earnings per share  Earnings per share  \n",
              "0                        0.901537            4.098069  \n",
              "1                        0.461790            2.319993  \n",
              "2                        0.324834            1.804355  \n",
              "3                        0.363023            1.764096  \n",
              "4                        0.607008            2.665154  \n",
              "..                            ...                 ...  \n",
              "75                       0.446015            3.595673  \n",
              "76                       0.382118            2.179054  \n",
              "77                       0.239894            3.323015  \n",
              "78                       0.546037            2.241758  \n",
              "79                       1.141087            3.657509  \n",
              "\n",
              "[77 rows x 5 columns]"
            ],
            "text/html": [
              "\n",
              "  <div id=\"df-c878e4d8-608e-4146-a6bd-98c5a8d2f1c0\" class=\"colab-df-container\">\n",
              "    <div>\n",
              "<style scoped>\n",
              "    .dataframe tbody tr th:only-of-type {\n",
              "        vertical-align: middle;\n",
              "    }\n",
              "\n",
              "    .dataframe tbody tr th {\n",
              "        vertical-align: top;\n",
              "    }\n",
              "\n",
              "    .dataframe thead th {\n",
              "        text-align: right;\n",
              "    }\n",
              "</style>\n",
              "<table border=\"1\" class=\"dataframe\">\n",
              "  <thead>\n",
              "    <tr style=\"text-align: right;\">\n",
              "      <th></th>\n",
              "      <th>Firm ID number</th>\n",
              "      <th>Stock price</th>\n",
              "      <th>Permanent Earnings per share</th>\n",
              "      <th>Transitory Earnings per share</th>\n",
              "      <th>Earnings per share</th>\n",
              "    </tr>\n",
              "  </thead>\n",
              "  <tbody>\n",
              "    <tr>\n",
              "      <th>0</th>\n",
              "      <td>1</td>\n",
              "      <td>32.04</td>\n",
              "      <td>3.196532</td>\n",
              "      <td>0.901537</td>\n",
              "      <td>4.098069</td>\n",
              "    </tr>\n",
              "    <tr>\n",
              "      <th>1</th>\n",
              "      <td>2</td>\n",
              "      <td>19.99</td>\n",
              "      <td>1.858204</td>\n",
              "      <td>0.461790</td>\n",
              "      <td>2.319993</td>\n",
              "    </tr>\n",
              "    <tr>\n",
              "      <th>2</th>\n",
              "      <td>3</td>\n",
              "      <td>18.93</td>\n",
              "      <td>1.479520</td>\n",
              "      <td>0.324834</td>\n",
              "      <td>1.804355</td>\n",
              "    </tr>\n",
              "    <tr>\n",
              "      <th>3</th>\n",
              "      <td>4</td>\n",
              "      <td>16.99</td>\n",
              "      <td>1.401072</td>\n",
              "      <td>0.363023</td>\n",
              "      <td>1.764096</td>\n",
              "    </tr>\n",
              "    <tr>\n",
              "      <th>4</th>\n",
              "      <td>5</td>\n",
              "      <td>23.30</td>\n",
              "      <td>2.058146</td>\n",
              "      <td>0.607008</td>\n",
              "      <td>2.665154</td>\n",
              "    </tr>\n",
              "    <tr>\n",
              "      <th>...</th>\n",
              "      <td>...</td>\n",
              "      <td>...</td>\n",
              "      <td>...</td>\n",
              "      <td>...</td>\n",
              "      <td>...</td>\n",
              "    </tr>\n",
              "    <tr>\n",
              "      <th>75</th>\n",
              "      <td>76</td>\n",
              "      <td>33.76</td>\n",
              "      <td>3.149658</td>\n",
              "      <td>0.446015</td>\n",
              "      <td>3.595673</td>\n",
              "    </tr>\n",
              "    <tr>\n",
              "      <th>76</th>\n",
              "      <td>77</td>\n",
              "      <td>19.76</td>\n",
              "      <td>1.796936</td>\n",
              "      <td>0.382118</td>\n",
              "      <td>2.179054</td>\n",
              "    </tr>\n",
              "    <tr>\n",
              "      <th>77</th>\n",
              "      <td>78</td>\n",
              "      <td>33.27</td>\n",
              "      <td>3.083121</td>\n",
              "      <td>0.239894</td>\n",
              "      <td>3.323015</td>\n",
              "    </tr>\n",
              "    <tr>\n",
              "      <th>78</th>\n",
              "      <td>79</td>\n",
              "      <td>18.07</td>\n",
              "      <td>1.695720</td>\n",
              "      <td>0.546037</td>\n",
              "      <td>2.241758</td>\n",
              "    </tr>\n",
              "    <tr>\n",
              "      <th>79</th>\n",
              "      <td>80</td>\n",
              "      <td>24.67</td>\n",
              "      <td>2.516423</td>\n",
              "      <td>1.141087</td>\n",
              "      <td>3.657509</td>\n",
              "    </tr>\n",
              "  </tbody>\n",
              "</table>\n",
              "<p>77 rows × 5 columns</p>\n",
              "</div>\n",
              "    <div class=\"colab-df-buttons\">\n",
              "\n",
              "  <div class=\"colab-df-container\">\n",
              "    <button class=\"colab-df-convert\" onclick=\"convertToInteractive('df-c878e4d8-608e-4146-a6bd-98c5a8d2f1c0')\"\n",
              "            title=\"Convert this dataframe to an interactive table.\"\n",
              "            style=\"display:none;\">\n",
              "\n",
              "  <svg xmlns=\"http://www.w3.org/2000/svg\" height=\"24px\" viewBox=\"0 -960 960 960\">\n",
              "    <path d=\"M120-120v-720h720v720H120Zm60-500h600v-160H180v160Zm220 220h160v-160H400v160Zm0 220h160v-160H400v160ZM180-400h160v-160H180v160Zm440 0h160v-160H620v160ZM180-180h160v-160H180v160Zm440 0h160v-160H620v160Z\"/>\n",
              "  </svg>\n",
              "    </button>\n",
              "\n",
              "  <style>\n",
              "    .colab-df-container {\n",
              "      display:flex;\n",
              "      gap: 12px;\n",
              "    }\n",
              "\n",
              "    .colab-df-convert {\n",
              "      background-color: #E8F0FE;\n",
              "      border: none;\n",
              "      border-radius: 50%;\n",
              "      cursor: pointer;\n",
              "      display: none;\n",
              "      fill: #1967D2;\n",
              "      height: 32px;\n",
              "      padding: 0 0 0 0;\n",
              "      width: 32px;\n",
              "    }\n",
              "\n",
              "    .colab-df-convert:hover {\n",
              "      background-color: #E2EBFA;\n",
              "      box-shadow: 0px 1px 2px rgba(60, 64, 67, 0.3), 0px 1px 3px 1px rgba(60, 64, 67, 0.15);\n",
              "      fill: #174EA6;\n",
              "    }\n",
              "\n",
              "    .colab-df-buttons div {\n",
              "      margin-bottom: 4px;\n",
              "    }\n",
              "\n",
              "    [theme=dark] .colab-df-convert {\n",
              "      background-color: #3B4455;\n",
              "      fill: #D2E3FC;\n",
              "    }\n",
              "\n",
              "    [theme=dark] .colab-df-convert:hover {\n",
              "      background-color: #434B5C;\n",
              "      box-shadow: 0px 1px 3px 1px rgba(0, 0, 0, 0.15);\n",
              "      filter: drop-shadow(0px 1px 2px rgba(0, 0, 0, 0.3));\n",
              "      fill: #FFFFFF;\n",
              "    }\n",
              "  </style>\n",
              "\n",
              "    <script>\n",
              "      const buttonEl =\n",
              "        document.querySelector('#df-c878e4d8-608e-4146-a6bd-98c5a8d2f1c0 button.colab-df-convert');\n",
              "      buttonEl.style.display =\n",
              "        google.colab.kernel.accessAllowed ? 'block' : 'none';\n",
              "\n",
              "      async function convertToInteractive(key) {\n",
              "        const element = document.querySelector('#df-c878e4d8-608e-4146-a6bd-98c5a8d2f1c0');\n",
              "        const dataTable =\n",
              "          await google.colab.kernel.invokeFunction('convertToInteractive',\n",
              "                                                    [key], {});\n",
              "        if (!dataTable) return;\n",
              "\n",
              "        const docLinkHtml = 'Like what you see? Visit the ' +\n",
              "          '<a target=\"_blank\" href=https://colab.research.google.com/notebooks/data_table.ipynb>data table notebook</a>'\n",
              "          + ' to learn more about interactive tables.';\n",
              "        element.innerHTML = '';\n",
              "        dataTable['output_type'] = 'display_data';\n",
              "        await google.colab.output.renderOutput(dataTable, element);\n",
              "        const docLink = document.createElement('div');\n",
              "        docLink.innerHTML = docLinkHtml;\n",
              "        element.appendChild(docLink);\n",
              "      }\n",
              "    </script>\n",
              "  </div>\n",
              "\n",
              "\n",
              "<div id=\"df-96bde015-0742-4b75-ab58-2227e42bd8f9\">\n",
              "  <button class=\"colab-df-quickchart\" onclick=\"quickchart('df-96bde015-0742-4b75-ab58-2227e42bd8f9')\"\n",
              "            title=\"Suggest charts\"\n",
              "            style=\"display:none;\">\n",
              "\n",
              "<svg xmlns=\"http://www.w3.org/2000/svg\" height=\"24px\"viewBox=\"0 0 24 24\"\n",
              "     width=\"24px\">\n",
              "    <g>\n",
              "        <path d=\"M19 3H5c-1.1 0-2 .9-2 2v14c0 1.1.9 2 2 2h14c1.1 0 2-.9 2-2V5c0-1.1-.9-2-2-2zM9 17H7v-7h2v7zm4 0h-2V7h2v10zm4 0h-2v-4h2v4z\"/>\n",
              "    </g>\n",
              "</svg>\n",
              "  </button>\n",
              "\n",
              "<style>\n",
              "  .colab-df-quickchart {\n",
              "      --bg-color: #E8F0FE;\n",
              "      --fill-color: #1967D2;\n",
              "      --hover-bg-color: #E2EBFA;\n",
              "      --hover-fill-color: #174EA6;\n",
              "      --disabled-fill-color: #AAA;\n",
              "      --disabled-bg-color: #DDD;\n",
              "  }\n",
              "\n",
              "  [theme=dark] .colab-df-quickchart {\n",
              "      --bg-color: #3B4455;\n",
              "      --fill-color: #D2E3FC;\n",
              "      --hover-bg-color: #434B5C;\n",
              "      --hover-fill-color: #FFFFFF;\n",
              "      --disabled-bg-color: #3B4455;\n",
              "      --disabled-fill-color: #666;\n",
              "  }\n",
              "\n",
              "  .colab-df-quickchart {\n",
              "    background-color: var(--bg-color);\n",
              "    border: none;\n",
              "    border-radius: 50%;\n",
              "    cursor: pointer;\n",
              "    display: none;\n",
              "    fill: var(--fill-color);\n",
              "    height: 32px;\n",
              "    padding: 0;\n",
              "    width: 32px;\n",
              "  }\n",
              "\n",
              "  .colab-df-quickchart:hover {\n",
              "    background-color: var(--hover-bg-color);\n",
              "    box-shadow: 0 1px 2px rgba(60, 64, 67, 0.3), 0 1px 3px 1px rgba(60, 64, 67, 0.15);\n",
              "    fill: var(--button-hover-fill-color);\n",
              "  }\n",
              "\n",
              "  .colab-df-quickchart-complete:disabled,\n",
              "  .colab-df-quickchart-complete:disabled:hover {\n",
              "    background-color: var(--disabled-bg-color);\n",
              "    fill: var(--disabled-fill-color);\n",
              "    box-shadow: none;\n",
              "  }\n",
              "\n",
              "  .colab-df-spinner {\n",
              "    border: 2px solid var(--fill-color);\n",
              "    border-color: transparent;\n",
              "    border-bottom-color: var(--fill-color);\n",
              "    animation:\n",
              "      spin 1s steps(1) infinite;\n",
              "  }\n",
              "\n",
              "  @keyframes spin {\n",
              "    0% {\n",
              "      border-color: transparent;\n",
              "      border-bottom-color: var(--fill-color);\n",
              "      border-left-color: var(--fill-color);\n",
              "    }\n",
              "    20% {\n",
              "      border-color: transparent;\n",
              "      border-left-color: var(--fill-color);\n",
              "      border-top-color: var(--fill-color);\n",
              "    }\n",
              "    30% {\n",
              "      border-color: transparent;\n",
              "      border-left-color: var(--fill-color);\n",
              "      border-top-color: var(--fill-color);\n",
              "      border-right-color: var(--fill-color);\n",
              "    }\n",
              "    40% {\n",
              "      border-color: transparent;\n",
              "      border-right-color: var(--fill-color);\n",
              "      border-top-color: var(--fill-color);\n",
              "    }\n",
              "    60% {\n",
              "      border-color: transparent;\n",
              "      border-right-color: var(--fill-color);\n",
              "    }\n",
              "    80% {\n",
              "      border-color: transparent;\n",
              "      border-right-color: var(--fill-color);\n",
              "      border-bottom-color: var(--fill-color);\n",
              "    }\n",
              "    90% {\n",
              "      border-color: transparent;\n",
              "      border-bottom-color: var(--fill-color);\n",
              "    }\n",
              "  }\n",
              "</style>\n",
              "\n",
              "  <script>\n",
              "    async function quickchart(key) {\n",
              "      const quickchartButtonEl =\n",
              "        document.querySelector('#' + key + ' button');\n",
              "      quickchartButtonEl.disabled = true;  // To prevent multiple clicks.\n",
              "      quickchartButtonEl.classList.add('colab-df-spinner');\n",
              "      try {\n",
              "        const charts = await google.colab.kernel.invokeFunction(\n",
              "            'suggestCharts', [key], {});\n",
              "      } catch (error) {\n",
              "        console.error('Error during call to suggestCharts:', error);\n",
              "      }\n",
              "      quickchartButtonEl.classList.remove('colab-df-spinner');\n",
              "      quickchartButtonEl.classList.add('colab-df-quickchart-complete');\n",
              "    }\n",
              "    (() => {\n",
              "      let quickchartButtonEl =\n",
              "        document.querySelector('#df-96bde015-0742-4b75-ab58-2227e42bd8f9 button');\n",
              "      quickchartButtonEl.style.display =\n",
              "        google.colab.kernel.accessAllowed ? 'block' : 'none';\n",
              "    })();\n",
              "  </script>\n",
              "</div>\n",
              "\n",
              "  <div id=\"id_05b90686-7a83-4b0f-b39f-34a9d2e02b35\">\n",
              "    <style>\n",
              "      .colab-df-generate {\n",
              "        background-color: #E8F0FE;\n",
              "        border: none;\n",
              "        border-radius: 50%;\n",
              "        cursor: pointer;\n",
              "        display: none;\n",
              "        fill: #1967D2;\n",
              "        height: 32px;\n",
              "        padding: 0 0 0 0;\n",
              "        width: 32px;\n",
              "      }\n",
              "\n",
              "      .colab-df-generate:hover {\n",
              "        background-color: #E2EBFA;\n",
              "        box-shadow: 0px 1px 2px rgba(60, 64, 67, 0.3), 0px 1px 3px 1px rgba(60, 64, 67, 0.15);\n",
              "        fill: #174EA6;\n",
              "      }\n",
              "\n",
              "      [theme=dark] .colab-df-generate {\n",
              "        background-color: #3B4455;\n",
              "        fill: #D2E3FC;\n",
              "      }\n",
              "\n",
              "      [theme=dark] .colab-df-generate:hover {\n",
              "        background-color: #434B5C;\n",
              "        box-shadow: 0px 1px 3px 1px rgba(0, 0, 0, 0.15);\n",
              "        filter: drop-shadow(0px 1px 2px rgba(0, 0, 0, 0.3));\n",
              "        fill: #FFFFFF;\n",
              "      }\n",
              "    </style>\n",
              "    <button class=\"colab-df-generate\" onclick=\"generateWithVariable('trainingdata')\"\n",
              "            title=\"Generate code using this dataframe.\"\n",
              "            style=\"display:none;\">\n",
              "\n",
              "  <svg xmlns=\"http://www.w3.org/2000/svg\" height=\"24px\"viewBox=\"0 0 24 24\"\n",
              "       width=\"24px\">\n",
              "    <path d=\"M7,19H8.4L18.45,9,17,7.55,7,17.6ZM5,21V16.75L18.45,3.32a2,2,0,0,1,2.83,0l1.4,1.43a1.91,1.91,0,0,1,.58,1.4,1.91,1.91,0,0,1-.58,1.4L9.25,21ZM18.45,9,17,7.55Zm-12,3A5.31,5.31,0,0,0,4.9,8.1,5.31,5.31,0,0,0,1,6.5,5.31,5.31,0,0,0,4.9,4.9,5.31,5.31,0,0,0,6.5,1,5.31,5.31,0,0,0,8.1,4.9,5.31,5.31,0,0,0,12,6.5,5.46,5.46,0,0,0,6.5,12Z\"/>\n",
              "  </svg>\n",
              "    </button>\n",
              "    <script>\n",
              "      (() => {\n",
              "      const buttonEl =\n",
              "        document.querySelector('#id_05b90686-7a83-4b0f-b39f-34a9d2e02b35 button.colab-df-generate');\n",
              "      buttonEl.style.display =\n",
              "        google.colab.kernel.accessAllowed ? 'block' : 'none';\n",
              "\n",
              "      buttonEl.onclick = () => {\n",
              "        google.colab.notebook.generateWithVariable('trainingdata');\n",
              "      }\n",
              "      })();\n",
              "    </script>\n",
              "  </div>\n",
              "\n",
              "    </div>\n",
              "  </div>\n"
            ],
            "application/vnd.google.colaboratory.intrinsic+json": {
              "type": "dataframe",
              "variable_name": "trainingdata",
              "summary": "{\n  \"name\": \"trainingdata\",\n  \"rows\": 77,\n  \"fields\": [\n    {\n      \"column\": \"Firm ID number\",\n      \"properties\": {\n        \"dtype\": \"number\",\n        \"std\": 23,\n        \"min\": 1,\n        \"max\": 80,\n        \"num_unique_values\": 77,\n        \"samples\": [\n          5,\n          39,\n          11\n        ],\n        \"semantic_type\": \"\",\n        \"description\": \"\"\n      }\n    },\n    {\n      \"column\": \"Stock price\",\n      \"properties\": {\n        \"dtype\": \"number\",\n        \"std\": 8.305348146007136,\n        \"min\": 12.4,\n        \"max\": 45.52,\n        \"num_unique_values\": 77,\n        \"samples\": [\n          23.3,\n          15.66,\n          15.94\n        ],\n        \"semantic_type\": \"\",\n        \"description\": \"\"\n      }\n    },\n    {\n      \"column\": \"Permanent Earnings per share\",\n      \"properties\": {\n        \"dtype\": \"number\",\n        \"std\": 0.914653074305081,\n        \"min\": 0.863885455,\n        \"max\": 4.648668685,\n        \"num_unique_values\": 77,\n        \"samples\": [\n          2.058145612,\n          1.360969508,\n          1.311074053\n        ],\n        \"semantic_type\": \"\",\n        \"description\": \"\"\n      }\n    },\n    {\n      \"column\": \"Transitory Earnings per share\",\n      \"properties\": {\n        \"dtype\": \"number\",\n        \"std\": 0.2714663219652171,\n        \"min\": 0.124404217,\n        \"max\": 1.284082296,\n        \"num_unique_values\": 77,\n        \"samples\": [\n          0.607008279,\n          0.349216464,\n          0.190859435\n        ],\n        \"semantic_type\": \"\",\n        \"description\": \"\"\n      }\n    },\n    {\n      \"column\": \"Earnings per share\",\n      \"properties\": {\n        \"dtype\": \"number\",\n        \"std\": 1.0991431651835655,\n        \"min\": 1.087124021,\n        \"max\": 5.914993513,\n        \"num_unique_values\": 77,\n        \"samples\": [\n          2.665153891,\n          1.710185972,\n          1.501933488\n        ],\n        \"semantic_type\": \"\",\n        \"description\": \"\"\n      }\n    }\n  ]\n}"
            }
          },
          "metadata": {},
          "execution_count": 20
        }
      ]
    },
    {
      "cell_type": "code",
      "metadata": {
        "id": "w0mp73oFoxNU",
        "colab": {
          "base_uri": "https://localhost:8080/"
        },
        "outputId": "701eb82f-bbbf-4402-c641-c112a782843c"
      },
      "source": [
        "#This creates an array of features that includes all features except 'Stock price', 'Firm ID' and 'Earnings per share'. 'Stock price' is which is what we want to predict\n",
        "Train_X = np.array(trainingdata.drop(['Stock price','Firm ID number','Earnings per share'],axis=1))\n",
        "trainingdata\n",
        "#This creates an array that includes ONLY 'Stock price'\n",
        "Train_y = np.array(trainingdata['Stock price'])\n",
        "\n",
        "print (Train_X)"
      ],
      "execution_count": null,
      "outputs": [
        {
          "output_type": "stream",
          "name": "stdout",
          "text": [
            "[[3.19653179 0.90153705]\n",
            " [1.85820369 0.46178973]\n",
            " [1.4795202  0.32483443]\n",
            " [1.40107239 0.3630233 ]\n",
            " [2.05814561 0.60700828]\n",
            " [1.79033816 0.77874396]\n",
            " [1.21885946 0.48342037]\n",
            " [3.55003675 0.63357135]\n",
            " [1.39617523 0.54307525]\n",
            " [1.69048789 0.74201866]\n",
            " [1.31107405 0.19085943]\n",
            " [1.90344157 0.44318224]\n",
            " [1.47757957 0.2691265 ]\n",
            " [3.63104113 0.48624679]\n",
            " [4.1135737  0.29846235]\n",
            " [1.69484522 0.33852236]\n",
            " [1.97484161 0.61750405]\n",
            " [3.31353755 1.22257905]\n",
            " [3.24790425 0.76765034]\n",
            " [2.56401123 0.77061744]\n",
            " [1.05627491 0.19146827]\n",
            " [2.59112129 0.83732831]\n",
            " [2.36439895 0.29369672]\n",
            " [1.80834035 0.50686003]\n",
            " [1.19800715 0.17651901]\n",
            " [2.01182967 0.20026529]\n",
            " [2.47252569 0.39471555]\n",
            " [3.87687688 1.04604605]\n",
            " [2.31507315 0.48380023]\n",
            " [1.48458469 0.31205416]\n",
            " [4.09821332 1.2840823 ]\n",
            " [1.44561157 0.28582042]\n",
            " [4.10476072 1.20696325]\n",
            " [4.32210384 0.49879904]\n",
            " [1.56618979 0.48069595]\n",
            " [1.36096951 0.34921646]\n",
            " [3.05324288 0.56973995]\n",
            " [0.95084974 0.18398197]\n",
            " [1.71230431 0.45456738]\n",
            " [0.86388546 0.22323857]\n",
            " [1.57753794 0.64365699]\n",
            " [2.6389517  0.72620761]\n",
            " [2.31500218 0.50573128]\n",
            " [1.96647881 0.53892715]\n",
            " [1.20296694 0.51024611]\n",
            " [1.048178   0.37683952]\n",
            " [1.44227886 0.59200834]\n",
            " [2.04420798 0.6700695 ]\n",
            " [1.85124495 0.8201745 ]\n",
            " [2.24198791 0.54187551]\n",
            " [1.06452963 0.63359937]\n",
            " [1.16883795 0.17397676]\n",
            " [1.73609731 0.83210553]\n",
            " [1.37968461 0.3656335 ]\n",
            " [1.5438293  0.47189892]\n",
            " [2.79114297 0.67439539]\n",
            " [3.12887085 0.93211764]\n",
            " [1.52191108 0.50949431]\n",
            " [3.06344753 0.47110467]\n",
            " [1.23947144 0.43865267]\n",
            " [4.64866868 1.26632483]\n",
            " [2.06682952 0.66503815]\n",
            " [1.73435993 0.22037106]\n",
            " [3.52121658 0.82879568]\n",
            " [1.43166319 0.25006992]\n",
            " [2.43836295 0.71932309]\n",
            " [2.20112666 0.63753191]\n",
            " [2.91289234 0.63377978]\n",
            " [2.97249948 0.38448742]\n",
            " [2.39909175 0.62892549]\n",
            " [1.31977773 0.38184812]\n",
            " [1.63704203 0.12440422]\n",
            " [3.14965813 0.4460149 ]\n",
            " [1.79693608 0.38211833]\n",
            " [3.08312136 0.23989356]\n",
            " [1.69572036 0.5460375 ]\n",
            " [2.51642266 1.1410868 ]]\n"
          ]
        }
      ]
    },
    {
      "cell_type": "code",
      "source": [
        "print (len((\"We are removing Earnings per share because Permanent EPS + Transitory EPS equals Earnings per share. So we are roving it to reduce redindancy\").split()))"
      ],
      "metadata": {
        "id": "MgSOV803YoNg",
        "colab": {
          "base_uri": "https://localhost:8080/"
        },
        "outputId": "77435bd5-0ec6-4132-dc19-fb559678c8e4"
      },
      "execution_count": null,
      "outputs": [
        {
          "output_type": "stream",
          "name": "stdout",
          "text": [
            "24\n"
          ]
        }
      ]
    },
    {
      "cell_type": "markdown",
      "metadata": {
        "id": "PtsTHeu4oxNV"
      },
      "source": [
        "#### **5.3** Question: Next we actually make the predictor. We're using Linear Regression([documentation if you're interested](https://scikit-learn.org/stable/modules/generated/sklearn.linear_model.LinearRegression.html)) from sklearn."
      ]
    },
    {
      "cell_type": "code",
      "metadata": {
        "id": "3GFm1uxioxNV"
      },
      "source": [
        "from sklearn.linear_model import LinearRegression\n",
        "reg = LinearRegression().fit(Train_X, Train_y)"
      ],
      "execution_count": null,
      "outputs": []
    },
    {
      "cell_type": "markdown",
      "metadata": {
        "id": "DagARft3oxNW"
      },
      "source": [
        "#### **5.4** Question: Let's test it out. The following code takes a hand-entered set of data and predicts the stock price:"
      ]
    },
    {
      "cell_type": "code",
      "metadata": {
        "scrolled": true,
        "id": "EfTGfR41oxNX",
        "colab": {
          "base_uri": "https://localhost:8080/"
        },
        "outputId": "cb0e1d79-ce78-49fa-e270-d2688c293da9"
      },
      "source": [
        "#You can play with this\n",
        "prediction = reg.predict(np.array([[1,2],[1,3]]))\n",
        "\n",
        "print('Prediction:', prediction)"
      ],
      "execution_count": null,
      "outputs": [
        {
          "output_type": "stream",
          "name": "stdout",
          "text": [
            "Prediction: [5.64234869 1.06525631]\n"
          ]
        }
      ]
    },
    {
      "cell_type": "markdown",
      "metadata": {
        "id": "jKf_Z6hZDS1Q"
      },
      "source": [
        "Then Let's print out the cofficients and intercept."
      ]
    },
    {
      "cell_type": "code",
      "metadata": {
        "id": "dhkK03tDDThU",
        "colab": {
          "base_uri": "https://localhost:8080/"
        },
        "outputId": "77fbaa14-6b32-46be-e4d8-c2a05c571bc7"
      },
      "source": [
        "# coefficeints of the trained model\n",
        "print('\\nCoefficient of model :', reg.coef_)\n",
        "\n",
        "# intercept of the model\n",
        "print('\\nIntercept of model',reg.intercept_)"
      ],
      "execution_count": null,
      "outputs": [
        {
          "output_type": "stream",
          "name": "stdout",
          "text": [
            "\n",
            "Coefficient of model : [ 9.78586909 -4.57709238]\n",
            "\n",
            "Intercept of model 5.0106643563804525\n"
          ]
        }
      ]
    },
    {
      "cell_type": "markdown",
      "metadata": {
        "id": "z4EwC4uBoxNY"
      },
      "source": [
        "#### **5.5** Question: The next thing we need to do is to import the test set (stocktestdata.csv) and see how good our classifier is at predicting the values there. Do this, following the same steps as above to import and convert to arrays. Put the features in an array called 'Test_X' and the class (Stock price) in an array called 'Test_y'."
      ]
    },
    {
      "cell_type": "code",
      "metadata": {
        "id": "dN4I7Fx0oxNY"
      },
      "source": [
        "# Write code here to import the test data and convert into arrays\n",
        "testingdata = pd.read_csv(\"stocktestdata.csv\", header = 0)\n",
        "testingdata['Stock price'] = testingdata['Stock price'].str.replace('$', '').astype(float)\n",
        "testingdata['Stock price'] = pd.to_numeric(testingdata['Stock price'], errors='coerce')\n",
        "Test_X = np.array(testingdata.drop(['Stock price','Firm ID number','Earnings per share'],axis=1))\n",
        "testingdata\n",
        "#This creates an array that includes ONLY 'Stock price'\n",
        "Test_y = np.array(testingdata['Stock price'])"
      ],
      "execution_count": null,
      "outputs": []
    },
    {
      "cell_type": "code",
      "metadata": {
        "id": "pZ8Qn5vioxNZ",
        "colab": {
          "base_uri": "https://localhost:8080/"
        },
        "outputId": "f0524cbb-18b0-427e-a1c4-7dbd65433fee"
      },
      "source": [
        " print (Test_X.shape, Test_y.shape)"
      ],
      "execution_count": null,
      "outputs": [
        {
          "output_type": "stream",
          "name": "stdout",
          "text": [
            "(20, 2) (20,)\n"
          ]
        }
      ]
    },
    {
      "cell_type": "markdown",
      "metadata": {
        "id": "rD0WkZhuoxNa"
      },
      "source": [
        "#### **5.6** Question:Once you've properly imported the test set data, cleaned it, and put it into arrays, the following code should predict the stock price using the predictor you trained on the training data as applied to the attributes in the testing data. It will output your predictions and then the actual values."
      ]
    },
    {
      "cell_type": "code",
      "metadata": {
        "id": "PnRx4ZPooxNb",
        "colab": {
          "base_uri": "https://localhost:8080/"
        },
        "outputId": "84c0822b-1f5a-43c7-ddbd-4e92177d4d79"
      },
      "source": [
        "#DO NOT EDIT THIS\n",
        "Test_y_predicted = reg.predict(Test_X)\n",
        "\n",
        "Test_y_predicted, Test_y"
      ],
      "execution_count": null,
      "outputs": [
        {
          "output_type": "execute_result",
          "data": {
            "text/plain": [
              "(array([14.75802427, 19.93491969, 27.31284421, 38.06346991, 20.10361726,\n",
              "        24.23432817, 18.72627082, 23.07015695, 12.88938779, 17.09813371,\n",
              "        21.95322379, 18.20480829, 44.61523762, 21.2452249 , 32.34192656,\n",
              "        19.40606156, 19.0159723 , 33.32972583, 30.85611045, 20.85105262]),\n",
              " array([13.7 , 18.88, 28.2 , 39.09, 20.05, 23.17, 18.7 , 24.19, 12.85,\n",
              "        17.45, 21.92, 19.16, 43.51, 21.16, 31.39, 18.33, 18.97, 32.2 ,\n",
              "        30.73, 20.9 ]))"
            ]
          },
          "metadata": {},
          "execution_count": 33
        }
      ]
    },
    {
      "cell_type": "markdown",
      "metadata": {
        "id": "IOK5yIrkoxNb"
      },
      "source": [
        "#### **5.7** Question: To evaluate the model, which metrics are you going to choose? and why you choose that metrics?"
      ]
    },
    {
      "cell_type": "code",
      "source": [
        "print (len((\"I'm going to choose the mean absolute error because it'll show comparisons between predicted versus observed\").split()))"
      ],
      "metadata": {
        "id": "teOk8JI9UsFO"
      },
      "execution_count": null,
      "outputs": []
    },
    {
      "cell_type": "markdown",
      "source": [
        "#### **5.8** Question: In the following box, write code to calculate and print out your \"accuracy\" for the model."
      ],
      "metadata": {
        "id": "G8tU3cF8QuIO"
      }
    },
    {
      "cell_type": "code",
      "metadata": {
        "id": "fPRQhj46oxNc",
        "colab": {
          "base_uri": "https://localhost:8080/"
        },
        "outputId": "f5ad6802-dd77-452d-99cf-38849b48e8d0"
      },
      "source": [
        "\n",
        "#CALCULATE AND PRINT OUT YOUR ACCURACY SCORE\n",
        "#HINT: from sklearn import metrics\n",
        "from sklearn import metrics\n",
        "mae = metrics.mean_absolute_error(Test_y, Test_y_predicted)\n",
        "print('Accuracy score =', mae)"
      ],
      "execution_count": 35,
      "outputs": [
        {
          "output_type": "stream",
          "name": "stdout",
          "text": [
            "Accuracy score = 0.6119782664067621\n"
          ]
        }
      ]
    },
    {
      "cell_type": "markdown",
      "metadata": {
        "id": "SOm52O8joxNd"
      },
      "source": [
        "### 6 CONCLUSION\n",
        "Let's make a summary and answer the questions in the background section of the doc file."
      ]
    },
    {
      "cell_type": "markdown",
      "metadata": {
        "id": "O87wPJ1loxNd"
      },
      "source": [
        "#### **6.1** Question: Since we already trained a regression model to predict the stock price, can you tell what is the relation between earnings per share and stock price? Hint: please check the coefficients and analyze the relationship between independent variable and depent variable."
      ]
    },
    {
      "cell_type": "code",
      "metadata": {
        "id": "HQ6AnAQSoxNd"
      },
      "source": [
        "print (len((\"The relationship between EPS and Stock price is positive since for each unit increase of EPS, stock price increases around $5.20 \").split()))"
      ],
      "execution_count": null,
      "outputs": []
    },
    {
      "cell_type": "markdown",
      "metadata": {
        "id": "eLl-laIToxNg"
      },
      "source": [
        "#### **6.2** Question Which firms would you recommend to invest in, and why."
      ]
    },
    {
      "cell_type": "code",
      "metadata": {
        "id": "KUOOaV3loxNh"
      },
      "source": [
        "print (len((\"I would recommend investing in firms where the actual stock price is less than the predicted because this shows an opportunity to make more money on the actual stock price based on the EPS\").split()))"
      ],
      "execution_count": null,
      "outputs": []
    }
  ]
}